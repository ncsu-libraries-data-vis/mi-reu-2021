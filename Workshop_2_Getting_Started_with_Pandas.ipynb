{
 "cells": [
  {
   "cell_type": "markdown",
   "metadata": {},
   "source": [
    "# Getting started with Pandas"
   ]
  },
  {
   "cell_type": "markdown",
   "metadata": {},
   "source": [
    "## What is a Python library?\n",
    "\n",
    "A Python library is a package of code that adds to the functionality of Python. Base Python offers a lot of features, but not everything -- Python libraries can be imported at the beginning of  code to use for a specific purpose."
   ]
  },
  {
   "cell_type": "markdown",
   "metadata": {},
   "source": [
    "## What is pandas?\n",
    "\n",
    "The pandas library is a high-level data manipulation tool <sup>[[wikipedia](https://en.wikipedia.org/wiki/Pandas_(software))]</sup>. Some features include:\n",
    "\n",
    "* Reading and writing data from various data structures and file types\n",
    "* Cleaning, filtering, and otherwise preparing data\n",
    "* Calculating statistics and analyzing data\n",
    "* Visualization with help from Matplotlib"
   ]
  },
  {
   "cell_type": "markdown",
   "metadata": {},
   "source": [
    "## Importing a Python library\n",
    "\n",
    "To use any library, it must first be imported into the Python environment."
   ]
  },
  {
   "cell_type": "code",
   "execution_count": null,
   "metadata": {},
   "outputs": [],
   "source": [
    "# Import the pandas library as pd (callable in the code as pd)\n"
   ]
  },
  {
   "cell_type": "markdown",
   "metadata": {},
   "source": [
    "## Reading data files with pandas\n",
    "\n",
    "Datasets can be stored in several types of files, including .csv, .json, .txt, .xls, .xlsx, and more. The pandas library provides utilities to read in many of these file types."
   ]
  },
  {
   "cell_type": "markdown",
   "metadata": {},
   "source": [
    "### CSV Files\n",
    "\n",
    "A comma separated values (CSV) file is a plain text file containing data separated by commas."
   ]
  },
  {
   "cell_type": "code",
   "execution_count": null,
   "metadata": {},
   "outputs": [],
   "source": [
    "# The file location\n",
    "csv_file_url = 'https://raw.githubusercontent.com/ncsu-libraries-data-vis/mi-reu-2021/main/data/perovskite_DFT_EaH_FormE.csv'\n",
    "\n",
    "# Read in the file and print out the DataFrame\n"
   ]
  },
  {
   "cell_type": "markdown",
   "metadata": {},
   "source": [
    "### Excel Files\n",
    "\n",
    "An Excel file is the default for the spreadsheet application, Microsoft Excel. These files can often be converted for other spreadsheet applications."
   ]
  },
  {
   "cell_type": "code",
   "execution_count": null,
   "metadata": {},
   "outputs": [],
   "source": [
    "# The file location\n",
    "excel_file_url = 'https://github.com/ncsu-libraries-data-vis/mi-reu-2021/blob/main/data/perovskite_DFT_EaH_FormE.xlsx?raw=true'\n",
    "\n",
    "# Read in the file and print out the DataFrame\n"
   ]
  },
  {
   "cell_type": "markdown",
   "metadata": {},
   "source": [
    "### JSON Files\n",
    "\n",
    "JSON (JavaScript Object Notation) is a data storage format that uses name/value pairs to create objects and associative arrays."
   ]
  },
  {
   "cell_type": "code",
   "execution_count": null,
   "metadata": {
    "scrolled": true
   },
   "outputs": [],
   "source": [
    "# The file location\n",
    "json_file_url = 'https://raw.githubusercontent.com/ncsu-libraries-data-vis/mi-reu-2021/main/data/perovskite_DFT_EaH_FormE.json'\n",
    "\n",
    "\n",
    "# Read in the file and print out the DataFrame\n"
   ]
  },
  {
   "cell_type": "markdown",
   "metadata": {},
   "source": [
    "## Pandas data structures\n",
    "\n",
    "Pandas uses two main data structures: **Series** and **DataFrame**.\n",
    "\n",
    "<img src=\"https://raw.githubusercontent.com/NCSU-Libraries/data-viz-workshops/master/Data_Manipulation_with_Python/assets/nc_dataframes.png\" alt=\"DataFrames are composed of Series\" width=\"75%\">"
   ]
  },
  {
   "cell_type": "markdown",
   "metadata": {},
   "source": [
    "### DataFrame\n",
    "\n",
    "A **DataFrame** is a two-dimensional array, similar to tabluar data (think of Excel), with labaled rows (the index) and labeled columns. A **DataFrame** is made up of multiples **Series** in a similar way in which a table is made up of multiple columns. The only restriction is that each column must be of the same data type."
   ]
  },
  {
   "cell_type": "code",
   "execution_count": null,
   "metadata": {},
   "outputs": [],
   "source": [
    "# View the DataFrame created from the csv file\n"
   ]
  },
  {
   "cell_type": "code",
   "execution_count": null,
   "metadata": {},
   "outputs": [],
   "source": [
    "# Get the shape of a DataFrame (the number of rows and columns)\n"
   ]
  },
  {
   "cell_type": "markdown",
   "metadata": {},
   "source": [
    "### Series\n",
    "\n",
    "A **Series** is a one-dimensional array of indexed data (row labels), or a single column of data. It can be thought of as a specialized dictionary."
   ]
  },
  {
   "cell_type": "code",
   "execution_count": null,
   "metadata": {},
   "outputs": [],
   "source": [
    "# Select one column from a DataFrame (stored as a Series)\n"
   ]
  },
  {
   "cell_type": "code",
   "execution_count": null,
   "metadata": {},
   "outputs": [],
   "source": [
    "# Get the shape of a Series\n"
   ]
  },
  {
   "cell_type": "markdown",
   "metadata": {},
   "source": [
    "## Exploring the data\n",
    "\n",
    "The pandas library can be used to explore data for analysis. This can be useful for an initial assessment of a dataset to see what is included in the dataset and what could be useful to analyze. "
   ]
  },
  {
   "cell_type": "markdown",
   "metadata": {},
   "source": [
    "### View DataFrame column labels\n",
    "\n",
    "The label names for each column can be viewed using the DataFrame `columns` attribute, which gives a list of each column name."
   ]
  },
  {
   "cell_type": "code",
   "execution_count": null,
   "metadata": {},
   "outputs": [],
   "source": [
    "# View column labels (headers)\n"
   ]
  },
  {
   "cell_type": "markdown",
   "metadata": {},
   "source": [
    "### View summaries of a DataFrame\n",
    "\n",
    "Summaries of a DataFrame can be used to observe basic statistics and information such as column data types and non-null value counts."
   ]
  },
  {
   "cell_type": "code",
   "execution_count": null,
   "metadata": {},
   "outputs": [],
   "source": [
    "# Get summary statistics of DataFrame columns using \"describe()\" (only includes\n",
    "# numerical data types)\n"
   ]
  },
  {
   "cell_type": "code",
   "execution_count": null,
   "metadata": {},
   "outputs": [],
   "source": [
    "# Get summary statistics of single column using \"describe()\"\n"
   ]
  },
  {
   "cell_type": "code",
   "execution_count": null,
   "metadata": {},
   "outputs": [],
   "source": [
    "# Summarize column data types, non-null values, and memory usage using \"info()\"\n"
   ]
  },
  {
   "cell_type": "markdown",
   "metadata": {},
   "source": [
    "### Referencing and indexing a DataFrame"
   ]
  },
  {
   "cell_type": "markdown",
   "metadata": {},
   "source": [
    "#### Referencing Rows (.loc and .iloc)"
   ]
  },
  {
   "cell_type": "code",
   "execution_count": null,
   "metadata": {},
   "outputs": [],
   "source": [
    "# Reference a row by index label\n",
    "# Returns a Series\n",
    "\n",
    "# Access first row of data_csv by index label\n",
    "# In this case the index label is 0\n",
    "\n",
    "\n",
    "# Access first row of data_json by index label\n",
    "# In this case the index label is not 0\n"
   ]
  },
  {
   "cell_type": "code",
   "execution_count": null,
   "metadata": {},
   "outputs": [],
   "source": [
    "# Reference multiple rows by index label (in this case the index label 0 through 3)\n",
    "# Returns a DataFrame\n"
   ]
  },
  {
   "cell_type": "code",
   "execution_count": null,
   "metadata": {},
   "outputs": [],
   "source": [
    "# Reference a row or multiple rows by zero-based integer position\n",
    "\n",
    "# Access first row of data_csv by row integer value\n",
    "# In this case the row is row 0\n",
    "\n",
    "\n",
    "# Access first row of data_json by row integer value\n",
    "# In this case the row is also row 0\n"
   ]
  },
  {
   "cell_type": "code",
   "execution_count": null,
   "metadata": {},
   "outputs": [],
   "source": [
    "# Reference multiple rows by row number (in this case rows 0 through 2)\n",
    "# Note that this time the range doesn't include the stop number\n"
   ]
  },
  {
   "cell_type": "markdown",
   "metadata": {},
   "source": [
    "#### Referencing Columns"
   ]
  },
  {
   "cell_type": "code",
   "execution_count": null,
   "metadata": {},
   "outputs": [],
   "source": [
    "# Referencing a column by column label (in this case, \"A site #1\")\n"
   ]
  },
  {
   "cell_type": "code",
   "execution_count": null,
   "metadata": {},
   "outputs": [],
   "source": [
    "# Referencing multiple columns by a list of column labels \n",
    "# (in this case, the columns \"A site #1\" and \"A site #2\")\n"
   ]
  },
  {
   "cell_type": "markdown",
   "metadata": {},
   "source": [
    "#### Referencing both rows and columns"
   ]
  },
  {
   "cell_type": "code",
   "execution_count": null,
   "metadata": {},
   "outputs": [],
   "source": [
    "# Referencing a subset of rows and columns using index and column labels\n",
    "# Note that this statement uses a range of column labels instead of a list\n",
    "# Make sure that the column range starts with the leftmost label\n"
   ]
  },
  {
   "cell_type": "markdown",
   "metadata": {},
   "source": [
    "## Writing data to a file"
   ]
  },
  {
   "cell_type": "code",
   "execution_count": null,
   "metadata": {},
   "outputs": [],
   "source": [
    "# Save the subset from the previous cell in a variable\n",
    "\n",
    "\n",
    "# Write a csv file to the folder \"output_data\" in the current directory\n"
   ]
  },
  {
   "cell_type": "code",
   "execution_count": null,
   "metadata": {},
   "outputs": [],
   "source": [
    "#Write to an Excel file to the folder \"output_data\" in the current directory\n"
   ]
  },
  {
   "cell_type": "code",
   "execution_count": null,
   "metadata": {},
   "outputs": [],
   "source": [
    "# Write to a JSON file to the folder \"output_data\" in the current directory\n"
   ]
  }
 ],
 "metadata": {
  "kernelspec": {
   "display_name": "Python 3",
   "language": "python",
   "name": "python3"
  },
  "language_info": {
   "codemirror_mode": {
    "name": "ipython",
    "version": 3
   },
   "file_extension": ".py",
   "mimetype": "text/x-python",
   "name": "python",
   "nbconvert_exporter": "python",
   "pygments_lexer": "ipython3",
   "version": "3.8.5"
  }
 },
 "nbformat": 4,
 "nbformat_minor": 4
}
