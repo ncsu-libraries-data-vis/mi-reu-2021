{
 "cells": [
  {
   "cell_type": "markdown",
   "metadata": {},
   "source": [
    "# A brief introduction to Jupyter Notebooks and Python"
   ]
  },
  {
   "cell_type": "markdown",
   "metadata": {},
   "source": [
    "## Brief Jupyter overview\n",
    "\n",
    "The following sections cover the base information for using the Jupyter Notebook interface for this series of modules.\n",
    "\n",
    "### Cell types\n",
    "\n",
    "The basic structure of a Jupyter notebook consists of a sequence of cells from the top to the bottom of the page. The two basic cell types are **Markdown cells** and **Code cells**."
   ]
  },
  {
   "cell_type": "markdown",
   "metadata": {},
   "source": [
    "### Markdown cells\n",
    "\n",
    "This is a Markdown cell. You can create **formatted text** using the *Markdown language*.\n",
    "\n",
    "See the [Markdown Guide](https://www.markdownguide.org/cheat-sheet/) to learn more about the Markdown syntax."
   ]
  },
  {
   "cell_type": "markdown",
   "metadata": {},
   "source": [
    "### Code cells\n",
    "\n",
    "Code cells contain Python code. The cell below this Markdown cell is a code cell that contains valid Python syntax for:\n",
    "- defining a variable (`run_it = \"run this cell\"`),\n",
    "- creating a conditional statement (`if run_it == \"run this cell\":`),\n",
    "- calling the the built-in Python print method (`print(\"this cell ran\")`) to print output,\n",
    "- and code comments (comments are preceded by a `#` symbol).\n",
    "\n",
    "**Run a code cell using `shift+enter`.** Any output will be displayed below the cell."
   ]
  },
  {
   "cell_type": "code",
   "execution_count": null,
   "metadata": {},
   "outputs": [],
   "source": [
    "# Define the variable \"run_it\" and store the string \"run this cell\"\n",
    "run_it = \"run this cell\"\n",
    "\n",
    "# Test if the contents of \"run_it\" is equal to the string \"run this cell\"\n",
    "# and print the output accordingly\n",
    "if run_it == \"run this cell\":\n",
    "  print(\"this cell ran\")\n",
    "else:\n",
    "  print(\"this cell still ran\")"
   ]
  },
  {
   "cell_type": "markdown",
   "metadata": {},
   "source": [
    "You can reference variables created in another cell (e.g., `run_it`). The last expression in a cell will be printed by default. A print statement is not required to output the contents of `run_it` in the cell below."
   ]
  },
  {
   "cell_type": "code",
   "execution_count": null,
   "metadata": {
    "scrolled": true
   },
   "outputs": [],
   "source": [
    "run_it"
   ]
  },
  {
   "cell_type": "markdown",
   "metadata": {},
   "source": [
    "## Brief Python overview"
   ]
  },
  {
   "cell_type": "markdown",
   "metadata": {},
   "source": [
    "### Comments\n",
    "\n",
    "Comments provide a way to annotate your code in Python. Comments are preceded by a pound `#` symbol and are not interpreted when the code runs."
   ]
  },
  {
   "cell_type": "code",
   "execution_count": null,
   "metadata": {},
   "outputs": [],
   "source": []
  },
  {
   "cell_type": "markdown",
   "metadata": {},
   "source": [
    "### Variables\n",
    "\n",
    "Variables are used to store data for reuse in our code. By using variables we can edit the data in one place, the variable assignment, and recall the data stored in the variable at multiple places in our codebase."
   ]
  },
  {
   "cell_type": "code",
   "execution_count": null,
   "metadata": {},
   "outputs": [],
   "source": [
    "# Store a number in the variable \"number\"\n",
    "\n",
    "\n",
    "# Calculate the value of \"number\" * \"number\"\n",
    "\n",
    "\n",
    "# Use a formatted string to output the equation text: \"number x number = number_times\"\n"
   ]
  },
  {
   "cell_type": "markdown",
   "metadata": {},
   "source": [
    "### Data types\n",
    "\n",
    "Vairables can store values of different data types. A data type provides a classification for specific data and what operations can be performed on these data. Each data type has associated methods that provide functionality for accessing information about the data or manipulating the data. There are several standard Python data types. Some of the common data types (**strings**, **integers**, **floats**, **lists**, **dictionaries**, and **booleans**) are covered here."
   ]
  },
  {
   "cell_type": "markdown",
   "metadata": {},
   "source": [
    "#### Strings\n",
    "\n",
    "Strings consist of a sequence of characters and are created by surrounding a character sequence in single `''` or double `\"\"` quotes."
   ]
  },
  {
   "cell_type": "code",
   "execution_count": null,
   "metadata": {},
   "outputs": [],
   "source": [
    "# A string defined with double quotes\n"
   ]
  },
  {
   "cell_type": "code",
   "execution_count": null,
   "metadata": {},
   "outputs": [],
   "source": [
    "# A string defined with single quotes\n"
   ]
  },
  {
   "cell_type": "code",
   "execution_count": null,
   "metadata": {},
   "outputs": [],
   "source": [
    "# Get the data type of an object using the built-in Python method type()\n"
   ]
  },
  {
   "cell_type": "markdown",
   "metadata": {},
   "source": [
    "##### String concatenation\n",
    "\n",
    "String concatenation is used to combine multiple strings into one string."
   ]
  },
  {
   "cell_type": "code",
   "execution_count": null,
   "metadata": {},
   "outputs": [],
   "source": [
    "# Store two strings in variables\n",
    "\n",
    "\n",
    "# Concatenate the two strings\n"
   ]
  },
  {
   "cell_type": "markdown",
   "metadata": {},
   "source": [
    "##### Accessing characters in a string (string indexing)\n",
    "\n",
    "Access one character or a slice of characters from a string using indexing. Indexes in Python begin with zero, not one."
   ]
  },
  {
   "cell_type": "code",
   "execution_count": null,
   "metadata": {},
   "outputs": [],
   "source": [
    "# Define a greeting string\n",
    "\n",
    "\n",
    "# Access a single character by zero-based index position from the beginning of string\n"
   ]
  },
  {
   "cell_type": "code",
   "execution_count": null,
   "metadata": {},
   "outputs": [],
   "source": [
    "# Get the length of the string using the built-in Python method len()\n"
   ]
  },
  {
   "cell_type": "code",
   "execution_count": null,
   "metadata": {},
   "outputs": [],
   "source": [
    "# Get the last character in the string using the length\n"
   ]
  },
  {
   "cell_type": "code",
   "execution_count": null,
   "metadata": {},
   "outputs": [],
   "source": [
    "# Get characters referenced from the end of a string using negative index\n"
   ]
  },
  {
   "cell_type": "code",
   "execution_count": null,
   "metadata": {},
   "outputs": [],
   "source": [
    "# Slicing a string [start:end:step] (end position is non-inclusive)\n"
   ]
  },
  {
   "cell_type": "code",
   "execution_count": null,
   "metadata": {},
   "outputs": [],
   "source": [
    "# Exclude the start position if slicing from the start of the string\n"
   ]
  },
  {
   "cell_type": "code",
   "execution_count": null,
   "metadata": {},
   "outputs": [],
   "source": [
    "# Slice using negative index\n"
   ]
  },
  {
   "cell_type": "markdown",
   "metadata": {},
   "source": [
    "##### String methods\n",
    "\n",
    "Methods provide extra functionality for data in an object. Methods can be called on a string, and all other data types, using dot `.` notation. In order to run the method, the method name must be followed by opened and closed parentheses `()`"
   ]
  },
  {
   "cell_type": "code",
   "execution_count": null,
   "metadata": {},
   "outputs": [],
   "source": [
    "# Convert \"greeting\" characters to uppercase using the upper method\n"
   ]
  },
  {
   "cell_type": "code",
   "execution_count": null,
   "metadata": {},
   "outputs": [],
   "source": [
    "# Split the string at the occurance of spaces\n"
   ]
  },
  {
   "cell_type": "markdown",
   "metadata": {},
   "source": [
    "#### Numbers (integers and floats)\n",
    "\n",
    "Integers include postitive and negative whole numbers. Floats consist of numbers with a decimal point."
   ]
  },
  {
   "cell_type": "code",
   "execution_count": null,
   "metadata": {},
   "outputs": [],
   "source": [
    "# Create an example integer\n",
    "\n",
    "\n",
    "# Create an example float\n",
    "\n",
    "\n",
    "# Print the data type of each example\n"
   ]
  },
  {
   "cell_type": "markdown",
   "metadata": {},
   "source": [
    "##### Mathematical operations\n",
    "\n",
    "Mathematical operations follow standard order of operations (exponent, remainder, division, multiplication, addition, subtraction). It is important to be aware of what type of number is returned by an operation."
   ]
  },
  {
   "cell_type": "code",
   "execution_count": null,
   "metadata": {},
   "outputs": [],
   "source": [
    "# Multiplication of integers returns an integer\n"
   ]
  },
  {
   "cell_type": "code",
   "execution_count": null,
   "metadata": {},
   "outputs": [],
   "source": [
    "# Multiplication of an integer and a float returns a float\n"
   ]
  },
  {
   "cell_type": "code",
   "execution_count": null,
   "metadata": {},
   "outputs": [],
   "source": [
    "# Division of integers returns a float\n"
   ]
  },
  {
   "cell_type": "code",
   "execution_count": null,
   "metadata": {},
   "outputs": [],
   "source": [
    "# Use double slashes (//) to perform integer division\n"
   ]
  },
  {
   "cell_type": "code",
   "execution_count": null,
   "metadata": {},
   "outputs": [],
   "source": [
    "# Calculate the remainder of division using the percent sign (%)\n"
   ]
  },
  {
   "cell_type": "code",
   "execution_count": null,
   "metadata": {},
   "outputs": [],
   "source": [
    "# Calculate exponents using double asterisks (**)\n"
   ]
  },
  {
   "cell_type": "markdown",
   "metadata": {},
   "source": [
    "#### Lists\n",
    "\n",
    "Lists hold a sequence of items. Items can be of any data type and a single list can contain multiple data types. A list is created by including comma seperated objects between open and closed square brackets `[]`."
   ]
  },
  {
   "cell_type": "code",
   "execution_count": null,
   "metadata": {},
   "outputs": [],
   "source": [
    "# Create a list of strings\n"
   ]
  },
  {
   "cell_type": "code",
   "execution_count": null,
   "metadata": {},
   "outputs": [],
   "source": [
    "# Create a list of mixed data types\n",
    "\n",
    "\n",
    "# Print the item and item type for each item in the mixed list\n"
   ]
  },
  {
   "cell_type": "markdown",
   "metadata": {},
   "source": [
    "##### List indexing\n",
    "\n",
    "Access items from a list using indexing similar to strings."
   ]
  },
  {
   "cell_type": "code",
   "execution_count": null,
   "metadata": {},
   "outputs": [],
   "source": [
    "# Access a single item from a list\n"
   ]
  },
  {
   "cell_type": "code",
   "execution_count": null,
   "metadata": {},
   "outputs": [],
   "source": [
    "# Access multiple items from a list\n"
   ]
  },
  {
   "cell_type": "code",
   "execution_count": null,
   "metadata": {},
   "outputs": [],
   "source": [
    "# Get the length of a list\n"
   ]
  },
  {
   "cell_type": "code",
   "execution_count": null,
   "metadata": {},
   "outputs": [],
   "source": [
    "# Access the last item from a list using negative reference\n"
   ]
  },
  {
   "cell_type": "code",
   "execution_count": null,
   "metadata": {},
   "outputs": [],
   "source": [
    "# Replace items in a list using direct assignment with indexing\n",
    "\n",
    "\n",
    "# Print updated list\n"
   ]
  },
  {
   "cell_type": "markdown",
   "metadata": {},
   "source": [
    "##### List methods"
   ]
  },
  {
   "cell_type": "code",
   "execution_count": null,
   "metadata": {},
   "outputs": [],
   "source": [
    "# Add an item to the end of a list using the append method\n",
    "\n",
    "\n",
    "# Print the updated list\n"
   ]
  },
  {
   "cell_type": "code",
   "execution_count": null,
   "metadata": {},
   "outputs": [],
   "source": [
    "# Get the index of the first item with a specified value using the index method\n"
   ]
  },
  {
   "cell_type": "markdown",
   "metadata": {},
   "source": [
    "#### Dictionaries\n",
    "\n",
    "Dictionaries hold values that are associated with a key, they exist as pairs. Each key (like a word in a dictionary) has a value (like the word's definition). Access the values in a dictionary by referencing the key, since each key is unique.\n",
    "\n",
    "A dictionary is created using braces `{}` between which each key and value are assigned using the format `key_1: value, key_2: value, ...`"
   ]
  },
  {
   "cell_type": "code",
   "execution_count": null,
   "metadata": {},
   "outputs": [],
   "source": [
    "# Create an example dictionary of produce and their classification\n",
    "\n",
    "\n",
    "# Print the dictionary\n"
   ]
  },
  {
   "cell_type": "code",
   "execution_count": null,
   "metadata": {},
   "outputs": [],
   "source": [
    "# Access the value of a dictionary by calling its key pair\n"
   ]
  },
  {
   "cell_type": "code",
   "execution_count": null,
   "metadata": {},
   "outputs": [],
   "source": [
    "# Directly add new keys and values to a dictionary\n",
    "\n",
    "\n",
    "# Print the updated dictionary\n"
   ]
  },
  {
   "cell_type": "markdown",
   "metadata": {},
   "source": [
    "#### Booleans\n",
    "\n",
    "Booleans can represent one of two values, either `True` or `False`. Booleans are often the result of conditional expressions comparing values using comparison operators (`>`, `<`, `==`, `!=`, `<=`, `>=`)."
   ]
  },
  {
   "cell_type": "code",
   "execution_count": null,
   "metadata": {},
   "outputs": [],
   "source": [
    "# Create a boolean by testing if two strings are equal\n"
   ]
  },
  {
   "cell_type": "code",
   "execution_count": null,
   "metadata": {},
   "outputs": [],
   "source": [
    "# Create a boolean by comparing two integers\n"
   ]
  },
  {
   "cell_type": "markdown",
   "metadata": {},
   "source": [
    "#### Control flow\n",
    "\n",
    "Control flow refers to statements that allow you to change the path of execution of your program. Instead of executing each line of code in order, you can make repeat lines of code or move to different lines of code depending on different conditions."
   ]
  },
  {
   "cell_type": "markdown",
   "metadata": {},
   "source": [
    "##### If statements\n",
    "\n",
    "An `if` statement is used to check if a conditional expression (e.g., `5 > 1`) is true or false and run a block of code contingient on the results of the comparison. A block of code associated with an `if` statement is defined using indentation. A basic `if` statement has the following generalized syntax:\n",
    "```python\n",
    "if conditional_expression:\n",
    "    '''\n",
    "    indented block of code\n",
    "    that will run when\n",
    "    conditional_expression equals true\n",
    "    '''\n",
    "```"
   ]
  },
  {
   "cell_type": "code",
   "execution_count": null,
   "metadata": {},
   "outputs": [],
   "source": [
    "# An example if statement\n"
   ]
  },
  {
   "cell_type": "code",
   "execution_count": null,
   "metadata": {},
   "outputs": [],
   "source": [
    "# Use the else keyword to conditionally run code when the if statement is false\n"
   ]
  },
  {
   "cell_type": "code",
   "execution_count": null,
   "metadata": {},
   "outputs": [],
   "source": [
    "# Use elif to include multiple conditional statments\n"
   ]
  },
  {
   "cell_type": "markdown",
   "metadata": {},
   "source": [
    "Use logical statments (`and`, `or`, and `not`) to test multiple conditions in one `if` statement"
   ]
  },
  {
   "cell_type": "code",
   "execution_count": null,
   "metadata": {},
   "outputs": [],
   "source": [
    "# Test if name is Bill or Bob\n"
   ]
  },
  {
   "cell_type": "markdown",
   "metadata": {},
   "source": [
    "##### For loops\n",
    "\n",
    "For loops iterate over a sequence of objects such as items in a list or characters in a string. A for loop has the generalized syntax:\n",
    "```python\n",
    "for item in sequence:\n",
    "    '''\n",
    "    indented block of code\n",
    "    that will run for each\n",
    "    item in sequence\n",
    "    '''\n",
    "```"
   ]
  },
  {
   "cell_type": "code",
   "execution_count": null,
   "metadata": {},
   "outputs": [],
   "source": [
    "# Create a list of integers\n",
    "\n",
    "\n",
    "# Loop through each item in the list and print that item\n"
   ]
  },
  {
   "cell_type": "code",
   "execution_count": null,
   "metadata": {},
   "outputs": [],
   "source": [
    "# Create a string\n",
    "\n",
    "\n",
    "# Loop through each character in the string and print that character\n"
   ]
  },
  {
   "cell_type": "markdown",
   "metadata": {},
   "source": [
    "### Functions\n",
    "\n",
    "At the most basic level, functions are chunks of reusable code. A function can accept data, passed in as arguments, and return data.\n",
    "\n",
    "A function is declared using the generalized syntax:\n",
    "\n",
    "```python\n",
    "def function_name(arg_1, arg_2, arg_3):\n",
    "    indented function code...\n",
    "    return value\n",
    "```"
   ]
  },
  {
   "cell_type": "code",
   "execution_count": null,
   "metadata": {},
   "outputs": [],
   "source": [
    "# Define a function that adds two numbers\n",
    "\n",
    "\n",
    "# Call the function and add two numbers\n"
   ]
  },
  {
   "cell_type": "code",
   "execution_count": null,
   "metadata": {},
   "outputs": [],
   "source": [
    "# Define a function that replaces periods with exclamation marks in a string\n",
    "\n",
    "\n",
    "# Call the function on a string that contains periods\n"
   ]
  },
  {
   "cell_type": "markdown",
   "metadata": {},
   "source": [
    "### Importing Python libraries\n",
    "\n",
    "A Python library is a package of code that adds to the functionality of Python. Base Python offers a lot of features, but not everything -- Python libraries can be imported at the beginning of code to use for a specific purpose. The libraries covered in this series of modules include **pandas** (a data manipulation library), **matplotlib** (a graphing library), and **scikit-learn** (a machine learning library)."
   ]
  },
  {
   "cell_type": "code",
   "execution_count": null,
   "metadata": {},
   "outputs": [],
   "source": [
    "# Import the pandas library using the alias pd\n",
    "\n",
    "\n",
    "# Create a pandas DataFrame from the produce dictionary created earlier\n"
   ]
  },
  {
   "cell_type": "code",
   "execution_count": null,
   "metadata": {},
   "outputs": [],
   "source": [
    "# Import the pyplot interface from the matplotlib library using the alias plt\n",
    "\n",
    "\n",
    "# Create a horizontal bar chart of produce type counts\n"
   ]
  },
  {
   "cell_type": "code",
   "execution_count": null,
   "metadata": {},
   "outputs": [],
   "source": [
    "# Import the preprocessing module from the scikit-learn library\n",
    "\n",
    "\n",
    "# Create a label encoder object to transform non-numerical labels to numerical labels\n",
    "\n",
    "\n",
    "# Use the label encoder to transform the produce type column to numerical labels\n"
   ]
  }
 ],
 "metadata": {
  "kernelspec": {
   "display_name": "Python 3",
   "language": "python",
   "name": "python3"
  },
  "language_info": {
   "codemirror_mode": {
    "name": "ipython",
    "version": 3
   },
   "file_extension": ".py",
   "mimetype": "text/x-python",
   "name": "python",
   "nbconvert_exporter": "python",
   "pygments_lexer": "ipython3",
   "version": "3.8.5"
  }
 },
 "nbformat": 4,
 "nbformat_minor": 5
}