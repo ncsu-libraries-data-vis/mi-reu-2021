{
 "cells": [
  {
   "cell_type": "markdown",
   "metadata": {},
   "source": [
    "# A brief introduction to Jupyter Notebooks and Python"
   ]
  },
  {
   "cell_type": "markdown",
   "metadata": {},
   "source": [
    "## Brief Jupyter overview\n",
    "\n",
    "The following sections cover the base information for using the Jupyter Notebook interface for this series of tutorials.\n",
    "\n",
    "### Cell types\n",
    "\n",
    "The basic structure of a Jupyter notebook consists of a sequence of cells from the top to the bottom of the page. The two basic cell types are **Markdown cells** and **Code cells**."
   ]
  },
  {
   "cell_type": "markdown",
   "metadata": {},
   "source": [
    "### Markdown cells\n",
    "\n",
    "This is a Markdown cell. You can create **formatted text** using the *Markdown language*.\n",
    "\n",
    "See the [Markdown Guide](https://www.markdownguide.org/cheat-sheet/) to learn more about the Markdown syntax."
   ]
  },
  {
   "cell_type": "markdown",
   "metadata": {},
   "source": [
    "### Code cells\n",
    "\n",
    "Code cells contain Python code. The cell below this Markdown cell is a code cell that contains valid Python syntax for:\n",
    "- defining a variable (`run_it = \"run this cell\"`),\n",
    "- creating a conditional statement (`if run_it == \"run this cell\":`),\n",
    "- calling the the built-in Python print method (`print(\"this cell ran\")`) to print output,\n",
    "- and code comments (comments are preceded by a `#` symbol).\n",
    "\n",
    "**Run a code cell using `shift+enter`.** Any output will be displayed below the cell."
   ]
  },
  {
   "cell_type": "code",
   "execution_count": 60,
   "metadata": {},
   "outputs": [
    {
     "name": "stdout",
     "output_type": "stream",
     "text": [
      "this cell ran\n"
     ]
    }
   ],
   "source": [
    "# Define the variable \"run_it\" and store the string \"run this cell\"\n",
    "run_it = \"run this cell\"\n",
    "\n",
    "# Test if the contents of \"run_it\" is equal to the string \"run this cell\"\n",
    "# and print the output accordingly\n",
    "if run_it == \"run this cell\":\n",
    "  print(\"this cell ran\")\n",
    "else:\n",
    "  print(\"this cell still ran\")"
   ]
  },
  {
   "cell_type": "markdown",
   "metadata": {},
   "source": [
    "You can reference variables created in another cell (e.g., `run_it`). The last expression in a cell will be printed by default. A print statement is not required to output the contents of `run_it` in the cell below."
   ]
  },
  {
   "cell_type": "code",
   "execution_count": 21,
   "metadata": {
    "scrolled": true
   },
   "outputs": [
    {
     "data": {
      "text/plain": [
       "'run this cell'"
      ]
     },
     "execution_count": 21,
     "metadata": {},
     "output_type": "execute_result"
    }
   ],
   "source": [
    "run_it"
   ]
  },
  {
   "cell_type": "markdown",
   "metadata": {},
   "source": [
    "## Brief Python overview"
   ]
  },
  {
   "cell_type": "markdown",
   "metadata": {},
   "source": [
    "### Comments\n",
    "\n",
    "Comments provide a way to annotate your code in Python. Comments are preceded by a pound `#` symbol and are not interpreted when the code runs."
   ]
  },
  {
   "cell_type": "code",
   "execution_count": 22,
   "metadata": {},
   "outputs": [],
   "source": [
    "# This is comment\n",
    "# This is another comment"
   ]
  },
  {
   "cell_type": "markdown",
   "metadata": {},
   "source": [
    "### Variables\n",
    "\n",
    "Variables are used to store data for reuse in our code. By using variables we can edit the data in one place, the variable assignment, and recall the data stored in the variable at multiple places in our codebase."
   ]
  },
  {
   "cell_type": "code",
   "execution_count": 23,
   "metadata": {},
   "outputs": [
    {
     "data": {
      "text/plain": [
       "'900 x 900 = 810000'"
      ]
     },
     "execution_count": 23,
     "metadata": {},
     "output_type": "execute_result"
    }
   ],
   "source": [
    "# Store a number in the variable \"number\"\n",
    "number = 900\n",
    "\n",
    "# Calculate the value of \"number\" * \"number\"\n",
    "number_times = number * number\n",
    "\n",
    "# Use a formatted string to output the equation text: \"number x number = number_times\"\n",
    "f\"{number} x {number} = {number_times}\""
   ]
  },
  {
   "cell_type": "markdown",
   "metadata": {},
   "source": [
    "### Data types\n",
    "\n",
    "Vairables can store values of different data types. A data type provides a classification for specific data and what operations can be performed on these data. Each data type has associated methods that provide functionality for accessing information about the data or manipulating the data. There are several standard Python data types. Some of the common data types (**strings**, **integers**, **floats**, **lists**, **dictionaries**, and **booleans**) are covered here."
   ]
  },
  {
   "cell_type": "markdown",
   "metadata": {},
   "source": [
    "#### Strings\n",
    "\n",
    "Strings consist of a sequence of characters and are created by surrounding a character sequence in single `''` or double `\"\"` quotes."
   ]
  },
  {
   "cell_type": "code",
   "execution_count": 1,
   "metadata": {},
   "outputs": [
    {
     "data": {
      "text/plain": [
       "'This is a valid string'"
      ]
     },
     "execution_count": 1,
     "metadata": {},
     "output_type": "execute_result"
    }
   ],
   "source": [
    "# A string defined with double quotes\n",
    "\"This is a valid string\""
   ]
  },
  {
   "cell_type": "code",
   "execution_count": 2,
   "metadata": {},
   "outputs": [
    {
     "data": {
      "text/plain": [
       "'This is also a valid string'"
      ]
     },
     "execution_count": 2,
     "metadata": {},
     "output_type": "execute_result"
    }
   ],
   "source": [
    "# A string defined with single quotes\n",
    "'This is also a valid string'"
   ]
  },
  {
   "cell_type": "code",
   "execution_count": null,
   "metadata": {},
   "outputs": [],
   "source": [
    "# Get the data type of an object using the built-in Python method type()\n",
    "type('A string')"
   ]
  },
  {
   "cell_type": "markdown",
   "metadata": {},
   "source": [
    "##### String concatenation\n",
    "\n",
    "String concatenation is used to combine multiple strings into one string."
   ]
  },
  {
   "cell_type": "code",
   "execution_count": 1,
   "metadata": {},
   "outputs": [
    {
     "data": {
      "text/plain": [
       "'This is string concatenation'"
      ]
     },
     "execution_count": 1,
     "metadata": {},
     "output_type": "execute_result"
    }
   ],
   "source": [
    "# Store two strings in variables\n",
    "string_1 = \"This is\"\n",
    "string_2 = \"string concatenation\"\n",
    "\n",
    "# Concatenate the two strings\n",
    "string_1 + \" \" + string_2"
   ]
  },
  {
   "cell_type": "markdown",
   "metadata": {},
   "source": [
    "##### Accessing characters in a string (string indexing)\n",
    "\n",
    "Access one character or a slice of characters from a string using indexing. Indexes in Python begin with zero, not one."
   ]
  },
  {
   "cell_type": "code",
   "execution_count": 16,
   "metadata": {},
   "outputs": [
    {
     "data": {
      "text/plain": [
       "'e'"
      ]
     },
     "execution_count": 16,
     "metadata": {},
     "output_type": "execute_result"
    }
   ],
   "source": [
    "# Define a greeting string\n",
    "greeting = \"Hello, Thanks for learning with us!\"\n",
    "\n",
    "# Access a single character by zero-based index position from the beginning of string\n",
    "greeting[1]"
   ]
  },
  {
   "cell_type": "code",
   "execution_count": 17,
   "metadata": {},
   "outputs": [],
   "source": [
    "# Get the length of the string using the built-in Python method len()\n",
    "string_len = len(greeting)"
   ]
  },
  {
   "cell_type": "code",
   "execution_count": 18,
   "metadata": {},
   "outputs": [
    {
     "data": {
      "text/plain": [
       "'!'"
      ]
     },
     "execution_count": 18,
     "metadata": {},
     "output_type": "execute_result"
    }
   ],
   "source": [
    "# Get the last character in the string using the length\n",
    "greeting[string_len - 1]"
   ]
  },
  {
   "cell_type": "code",
   "execution_count": 19,
   "metadata": {},
   "outputs": [
    {
     "data": {
      "text/plain": [
       "'!'"
      ]
     },
     "execution_count": 19,
     "metadata": {},
     "output_type": "execute_result"
    }
   ],
   "source": [
    "# Get characters referenced from the end of a string using negative index\n",
    "greeting[-1]"
   ]
  },
  {
   "cell_type": "code",
   "execution_count": 21,
   "metadata": {},
   "outputs": [
    {
     "data": {
      "text/plain": [
       "'He'"
      ]
     },
     "execution_count": 21,
     "metadata": {},
     "output_type": "execute_result"
    }
   ],
   "source": [
    "# Slicing a string [start:end:step] (end position is non-inclusive)\n",
    "greeting[0:2]"
   ]
  },
  {
   "cell_type": "code",
   "execution_count": 24,
   "metadata": {},
   "outputs": [
    {
     "data": {
      "text/plain": [
       "'He'"
      ]
     },
     "execution_count": 24,
     "metadata": {},
     "output_type": "execute_result"
    }
   ],
   "source": [
    "# Exclude the start position if slicing from the start of the string\n",
    "greeting[:2]"
   ]
  },
  {
   "cell_type": "code",
   "execution_count": 23,
   "metadata": {},
   "outputs": [
    {
     "data": {
      "text/plain": [
       "'s!'"
      ]
     },
     "execution_count": 23,
     "metadata": {},
     "output_type": "execute_result"
    }
   ],
   "source": [
    "# Slice using negative index\n",
    "greeting[-2:]"
   ]
  },
  {
   "cell_type": "markdown",
   "metadata": {},
   "source": [
    "##### String methods\n",
    "\n",
    "Methods provide extra functionality for data in an object. Methods can be called on a string, and all other data types, using dot `.` notation. In order to run the method, the method name must be followed by opened and closed parentheses `()`"
   ]
  },
  {
   "cell_type": "code",
   "execution_count": 28,
   "metadata": {},
   "outputs": [
    {
     "data": {
      "text/plain": [
       "'HELLO. THANKS FOR LEARNING WITH US!'"
      ]
     },
     "execution_count": 28,
     "metadata": {},
     "output_type": "execute_result"
    }
   ],
   "source": [
    "# Convert \"greeting\" characters to uppercase using the upper method\n",
    "greeting.upper()"
   ]
  },
  {
   "cell_type": "code",
   "execution_count": 29,
   "metadata": {},
   "outputs": [
    {
     "data": {
      "text/plain": [
       "['Hello.', 'Thanks', 'for', 'learning', 'with', 'us!']"
      ]
     },
     "execution_count": 29,
     "metadata": {},
     "output_type": "execute_result"
    }
   ],
   "source": [
    "# Split the string at the occurance of spaces\n",
    "greeting.split(\" \")"
   ]
  },
  {
   "cell_type": "markdown",
   "metadata": {},
   "source": [
    "#### Numbers (integers and floats)\n",
    "\n",
    "Integers include postitive and negative whole numbers. Floats consist of numbers with a decimal point."
   ]
  },
  {
   "cell_type": "code",
   "execution_count": 30,
   "metadata": {},
   "outputs": [
    {
     "name": "stdout",
     "output_type": "stream",
     "text": [
      "<class 'int'> <class 'float'>\n"
     ]
    }
   ],
   "source": [
    "# Create an example integer\n",
    "example_int = 10\n",
    "\n",
    "# Create an example float\n",
    "example_float = 10.1\n",
    "\n",
    "# Print the data type of each example\n",
    "print(type(example_int), type(example_float))"
   ]
  },
  {
   "cell_type": "markdown",
   "metadata": {},
   "source": [
    "##### Mathematical operations\n",
    "\n",
    "Mathematical operations follow standard order of operations (exponent, remainder, division, multiplication, addition, subtraction). It is important to be aware of what type of number is returned by an operation."
   ]
  },
  {
   "cell_type": "code",
   "execution_count": 31,
   "metadata": {},
   "outputs": [
    {
     "data": {
      "text/plain": [
       "100"
      ]
     },
     "execution_count": 31,
     "metadata": {},
     "output_type": "execute_result"
    }
   ],
   "source": [
    "# Multiplication of integers returns an integer\n",
    "10 * 10"
   ]
  },
  {
   "cell_type": "code",
   "execution_count": 32,
   "metadata": {},
   "outputs": [
    {
     "data": {
      "text/plain": [
       "101.0"
      ]
     },
     "execution_count": 32,
     "metadata": {},
     "output_type": "execute_result"
    }
   ],
   "source": [
    "# Multiplication of an integer and a float returns a float\n",
    "10 * 10.1"
   ]
  },
  {
   "cell_type": "code",
   "execution_count": 33,
   "metadata": {},
   "outputs": [
    {
     "data": {
      "text/plain": [
       "5.0"
      ]
     },
     "execution_count": 33,
     "metadata": {},
     "output_type": "execute_result"
    }
   ],
   "source": [
    "# Division of integers returns a float\n",
    "10 / 2"
   ]
  },
  {
   "cell_type": "code",
   "execution_count": 34,
   "metadata": {},
   "outputs": [
    {
     "data": {
      "text/plain": [
       "3"
      ]
     },
     "execution_count": 34,
     "metadata": {},
     "output_type": "execute_result"
    }
   ],
   "source": [
    "# Use double slashes (//) to perform integer division\n",
    "10 // 3"
   ]
  },
  {
   "cell_type": "code",
   "execution_count": 36,
   "metadata": {},
   "outputs": [
    {
     "data": {
      "text/plain": [
       "1"
      ]
     },
     "execution_count": 36,
     "metadata": {},
     "output_type": "execute_result"
    }
   ],
   "source": [
    "# Calculate the remainder of division using the percent sign (%)\n",
    "10 % 3"
   ]
  },
  {
   "cell_type": "code",
   "execution_count": 35,
   "metadata": {},
   "outputs": [
    {
     "data": {
      "text/plain": [
       "9"
      ]
     },
     "execution_count": 35,
     "metadata": {},
     "output_type": "execute_result"
    }
   ],
   "source": [
    "# Calculate exponents using double asterisks (**)\n",
    "3 ** 2"
   ]
  },
  {
   "cell_type": "markdown",
   "metadata": {},
   "source": [
    "#### Lists\n",
    "\n",
    "Lists hold a sequence of items. Items can be of any data type and a single list can contain multiple data types. A list is created by including comma seperated objects between open and closed square brackets `[]`."
   ]
  },
  {
   "cell_type": "code",
   "execution_count": 1,
   "metadata": {},
   "outputs": [
    {
     "data": {
      "text/plain": [
       "['item1', 'item2', 'item3']"
      ]
     },
     "execution_count": 1,
     "metadata": {},
     "output_type": "execute_result"
    }
   ],
   "source": [
    "# Create a list of strings\n",
    "['item1', 'item2', 'item3']"
   ]
  },
  {
   "cell_type": "code",
   "execution_count": 2,
   "metadata": {},
   "outputs": [
    {
     "name": "stdout",
     "output_type": "stream",
     "text": [
      "1 <class 'int'>\n",
      "two <class 'str'>\n",
      "[3, 'four'] <class 'list'>\n",
      "5.25 <class 'float'>\n"
     ]
    }
   ],
   "source": [
    "# Create a list of mixed data types\n",
    "new_list = [1, 'two', [3, 'four'], 5.25]\n",
    "\n",
    "# Print the item and item type for each item in the mixed list\n",
    "for item in new_list:\n",
    "  print(item, type(item))"
   ]
  },
  {
   "cell_type": "markdown",
   "metadata": {},
   "source": [
    "##### List indexing\n",
    "\n",
    "Access items from a list using indexing similar to strings."
   ]
  },
  {
   "cell_type": "code",
   "execution_count": 3,
   "metadata": {},
   "outputs": [
    {
     "data": {
      "text/plain": [
       "1"
      ]
     },
     "execution_count": 3,
     "metadata": {},
     "output_type": "execute_result"
    }
   ],
   "source": [
    "# Access a single item from a list\n",
    "new_list[0]"
   ]
  },
  {
   "cell_type": "code",
   "execution_count": 4,
   "metadata": {},
   "outputs": [
    {
     "data": {
      "text/plain": [
       "[1, 'two']"
      ]
     },
     "execution_count": 4,
     "metadata": {},
     "output_type": "execute_result"
    }
   ],
   "source": [
    "# Access multiple items from a list\n",
    "new_list[:2]"
   ]
  },
  {
   "cell_type": "code",
   "execution_count": 6,
   "metadata": {},
   "outputs": [
    {
     "data": {
      "text/plain": [
       "4"
      ]
     },
     "execution_count": 6,
     "metadata": {},
     "output_type": "execute_result"
    }
   ],
   "source": [
    "# Get the length of a list\n",
    "list_len = len(new_list)\n",
    "list_len"
   ]
  },
  {
   "cell_type": "code",
   "execution_count": 7,
   "metadata": {},
   "outputs": [
    {
     "data": {
      "text/plain": [
       "5.25"
      ]
     },
     "execution_count": 7,
     "metadata": {},
     "output_type": "execute_result"
    }
   ],
   "source": [
    "# Access the last item from a list using negative reference\n",
    "new_list[-1]"
   ]
  },
  {
   "cell_type": "code",
   "execution_count": 8,
   "metadata": {},
   "outputs": [
    {
     "data": {
      "text/plain": [
       "['Updated item', 'two', [3, 'four'], 5.25]"
      ]
     },
     "execution_count": 8,
     "metadata": {},
     "output_type": "execute_result"
    }
   ],
   "source": [
    "# Replace items in a list using direct assignment with indexing\n",
    "new_list[0] = \"Updated item\"\n",
    "\n",
    "# Print updated list\n",
    "new_list"
   ]
  },
  {
   "cell_type": "markdown",
   "metadata": {},
   "source": [
    "##### List methods"
   ]
  },
  {
   "cell_type": "code",
   "execution_count": 9,
   "metadata": {},
   "outputs": [
    {
     "data": {
      "text/plain": [
       "['Updated item', 'two', [3, 'four'], 5.25, 'new item']"
      ]
     },
     "execution_count": 9,
     "metadata": {},
     "output_type": "execute_result"
    }
   ],
   "source": [
    "# Add an item to the end of a list using the append method\n",
    "new_list.append('new item')\n",
    "\n",
    "# Print the updated list\n",
    "new_list"
   ]
  },
  {
   "cell_type": "code",
   "execution_count": 10,
   "metadata": {},
   "outputs": [
    {
     "data": {
      "text/plain": [
       "1"
      ]
     },
     "execution_count": 10,
     "metadata": {},
     "output_type": "execute_result"
    }
   ],
   "source": [
    "# Get the index of the first item with a specified value using the index method\n",
    "new_list.index('two')"
   ]
  },
  {
   "cell_type": "markdown",
   "metadata": {},
   "source": [
    "#### Dictionaries\n",
    "\n",
    "Dictionaries hold values that are associated with a key, they exist as pairs. Each key (like a word in a dictionary) has a value (like the word's definition). Access the values in a dictionary by referencing the key, since each key is unique.\n",
    "\n",
    "A dictionary is created using braces `{}` between which each key and value are assigned using the format `key_1: value, key_2: value, ...`"
   ]
  },
  {
   "cell_type": "code",
   "execution_count": 35,
   "metadata": {},
   "outputs": [
    {
     "data": {
      "text/plain": [
       "{'apple': 'fruit', 'banana': 'fruit', 'corn': 'vegetable'}"
      ]
     },
     "execution_count": 35,
     "metadata": {},
     "output_type": "execute_result"
    }
   ],
   "source": [
    "# Create an example dictionary of produce and their classification\n",
    "produce = {\"apple\": \"fruit\", 'banana': 'fruit', 'corn': 'vegetable'}\n",
    "\n",
    "# Print the dictionary\n",
    "produce"
   ]
  },
  {
   "cell_type": "code",
   "execution_count": 36,
   "metadata": {},
   "outputs": [
    {
     "data": {
      "text/plain": [
       "'fruit'"
      ]
     },
     "execution_count": 36,
     "metadata": {},
     "output_type": "execute_result"
    }
   ],
   "source": [
    "# Access the value of a dictionary by calling its key pair\n",
    "produce['apple']"
   ]
  },
  {
   "cell_type": "code",
   "execution_count": 37,
   "metadata": {},
   "outputs": [
    {
     "data": {
      "text/plain": [
       "{'apple': 'fruit', 'banana': 'fruit', 'corn': 'vegetable', 'orange': 'fruit'}"
      ]
     },
     "execution_count": 37,
     "metadata": {},
     "output_type": "execute_result"
    }
   ],
   "source": [
    "# Directly add new keys and values to a dictionary\n",
    "produce['orange'] = 'fruit'\n",
    "\n",
    "# Print the updated dictionary\n",
    "produce"
   ]
  },
  {
   "cell_type": "markdown",
   "metadata": {},
   "source": [
    "#### Booleans\n",
    "\n",
    "Booleans can represent one of two values, either `True` or `False`. Booleans are often the result of conditional expressions comparing values using comparison operators (`>`, `<`, `==`, `!=`, `<=`, `>=`)."
   ]
  },
  {
   "cell_type": "code",
   "execution_count": 38,
   "metadata": {},
   "outputs": [
    {
     "data": {
      "text/plain": [
       "True"
      ]
     },
     "execution_count": 38,
     "metadata": {},
     "output_type": "execute_result"
    }
   ],
   "source": [
    "# Create a boolean by testing if two strings are equal\n",
    "\"Hello\" == \"Hello\""
   ]
  },
  {
   "cell_type": "code",
   "execution_count": 39,
   "metadata": {},
   "outputs": [
    {
     "data": {
      "text/plain": [
       "True"
      ]
     },
     "execution_count": 39,
     "metadata": {},
     "output_type": "execute_result"
    }
   ],
   "source": [
    "# Create a boolean by comparing two integers\n",
    "10 != 4"
   ]
  },
  {
   "cell_type": "markdown",
   "metadata": {},
   "source": [
    "#### Control flow\n",
    "\n",
    "Control flow refers to statements that allow you to change the path of execution of your program. Instead of executing each line of code in order, you can make repeat lines of code or move to different lines of code depending on different conditions."
   ]
  },
  {
   "cell_type": "markdown",
   "metadata": {},
   "source": [
    "##### If statements\n",
    "\n",
    "An `if` statement is used to check if a conditional expression (e.g., `5 > 1`) is true or false and run a block of code contingient on the results of the comparison. A block of code associated with an `if` statement is defined using indentation. A basic `if` statement has the following generalized syntax:\n",
    "```python\n",
    "if conditional_expression:\n",
    "    '''\n",
    "    indented block of code\n",
    "    that will run when\n",
    "    conditional_expression equals true\n",
    "    '''\n",
    "```"
   ]
  },
  {
   "cell_type": "code",
   "execution_count": 40,
   "metadata": {},
   "outputs": [
    {
     "name": "stdout",
     "output_type": "stream",
     "text": [
      "This is true\n"
     ]
    }
   ],
   "source": [
    "# An example if statement\n",
    "if 5 > 1:\n",
    "  print(\"This is true\")"
   ]
  },
  {
   "cell_type": "code",
   "execution_count": 41,
   "metadata": {},
   "outputs": [
    {
     "name": "stdout",
     "output_type": "stream",
     "text": [
      "This is false\n"
     ]
    }
   ],
   "source": [
    "# Use the else keyword to conditionally run code when the if statement is false\n",
    "if 5 == 2:\n",
    "  print(\"This is true\")\n",
    "else:\n",
    "  print(\"This is false\")"
   ]
  },
  {
   "cell_type": "code",
   "execution_count": 42,
   "metadata": {},
   "outputs": [
    {
     "name": "stdout",
     "output_type": "stream",
     "text": [
      "Hi, Bill!\n"
     ]
    }
   ],
   "source": [
    "# Use elif to include multiple conditional statments\n",
    "name = \"Bill\"\n",
    "\n",
    "if name == \"Bill\":\n",
    "  print(\"Hi, Bill!\")\n",
    "elif name == \"Bob\":\n",
    "  print(\"Hi, Bob\")\n",
    "else:\n",
    "  print(\"Who are you?\")"
   ]
  },
  {
   "cell_type": "markdown",
   "metadata": {},
   "source": [
    "Use logical statments (`and`, `or`, and `not`) to test multiple conditions in one `if` statement"
   ]
  },
  {
   "cell_type": "code",
   "execution_count": 44,
   "metadata": {},
   "outputs": [
    {
     "name": "stdout",
     "output_type": "stream",
     "text": [
      "Hi, Bill\n"
     ]
    }
   ],
   "source": [
    "# Test if name is Bill or Bob\n",
    "if name == \"Bill\" or name == \"Bob\":\n",
    "  print(f\"Hi, {name}\")\n",
    "else:\n",
    "  print(\"Who are you?\")"
   ]
  },
  {
   "cell_type": "markdown",
   "metadata": {},
   "source": [
    "##### For loops\n",
    "\n",
    "For loops iterate over a sequence of objects such as items in a list or characters in a string. A for loop has the generalized syntax:\n",
    "```python\n",
    "for item in sqeuence:\n",
    "    '''\n",
    "    indented block of code\n",
    "    that will run for each\n",
    "    item in sequence\n",
    "    '''\n",
    "```"
   ]
  },
  {
   "cell_type": "code",
   "execution_count": 45,
   "metadata": {},
   "outputs": [
    {
     "name": "stdout",
     "output_type": "stream",
     "text": [
      "1\n",
      "2\n",
      "3\n",
      "4\n",
      "5\n"
     ]
    }
   ],
   "source": [
    "# Create a list of integers\n",
    "list_a = [1, 2, 3, 4, 5]\n",
    "\n",
    "# Loop through each item in the list and print that item\n",
    "for item in list_a:\n",
    "  print(item)"
   ]
  },
  {
   "cell_type": "code",
   "execution_count": 46,
   "metadata": {},
   "outputs": [
    {
     "name": "stdout",
     "output_type": "stream",
     "text": [
      "H\n",
      "e\n",
      "l\n",
      "l\n",
      "o\n",
      " \n",
      "a\n",
      "g\n",
      "a\n",
      "i\n",
      "n\n",
      "!\n"
     ]
    }
   ],
   "source": [
    "# Create a string\n",
    "string_a = 'Hello again!'\n",
    "\n",
    "# Loop through each character in the string and print that character\n",
    "for char in string_a:\n",
    "  print(char)"
   ]
  },
  {
   "cell_type": "markdown",
   "metadata": {},
   "source": [
    "### Functions\n",
    "\n",
    "At the most basic level, functions are chunks of reusable code. A function can accept data, passed in as arguments, and return data.\n",
    "\n",
    "A function is declared using the generalized syntax:\n",
    "\n",
    "```python\n",
    "def function_name(arg_1, arg_2, arg_3):\n",
    "    indented function code...\n",
    "    return value\n",
    "```"
   ]
  },
  {
   "cell_type": "code",
   "execution_count": 47,
   "metadata": {},
   "outputs": [
    {
     "data": {
      "text/plain": [
       "105"
      ]
     },
     "execution_count": 47,
     "metadata": {},
     "output_type": "execute_result"
    }
   ],
   "source": [
    "# Define a function that adds two numbers\n",
    "def add_two_nums(num1, num2):\n",
    "  # Return the results of num1 + num2\n",
    "  return num1 + num2\n",
    "\n",
    "# Call the function and add two numbers\n",
    "add_two_nums(5, 100)"
   ]
  },
  {
   "cell_type": "code",
   "execution_count": 3,
   "metadata": {},
   "outputs": [
    {
     "data": {
      "text/plain": [
       "'This! is! a! boring! sentence!'"
      ]
     },
     "execution_count": 3,
     "metadata": {},
     "output_type": "execute_result"
    }
   ],
   "source": [
    "# Define a function that replaces periods with exclamation marks in a string\n",
    "def replace_period(string):\n",
    "  new_string = \"\"\n",
    "  for char in string:\n",
    "    if char == \".\":\n",
    "      new_string = new_string + \"!\"\n",
    "    else:\n",
    "      new_string = new_string + char\n",
    "  return new_string\n",
    "\n",
    "# Call the function on a string that contains periods\n",
    "replace_period(\"This. is. a. boring. sentence.\")"
   ]
  },
  {
   "cell_type": "markdown",
   "metadata": {},
   "source": [
    "### Importing Python libraries\n",
    "\n",
    "A Python library is a package of code that adds to the functionality of Python. Base Python offers a lot of features, but not everything -- Python libraries can be imported at the beginning of code to use for a specific purpose. The libraries covered in this series of modules include **pandas** (a data manipulation library), **matplotlib** (a graphing library), and **scikit-learn** (a machine learning library)."
   ]
  },
  {
   "cell_type": "code",
   "execution_count": 49,
   "metadata": {},
   "outputs": [
    {
     "data": {
      "text/html": [
       "<div>\n",
       "<style scoped>\n",
       "    .dataframe tbody tr th:only-of-type {\n",
       "        vertical-align: middle;\n",
       "    }\n",
       "\n",
       "    .dataframe tbody tr th {\n",
       "        vertical-align: top;\n",
       "    }\n",
       "\n",
       "    .dataframe thead th {\n",
       "        text-align: right;\n",
       "    }\n",
       "</style>\n",
       "<table border=\"1\" class=\"dataframe\">\n",
       "  <thead>\n",
       "    <tr style=\"text-align: right;\">\n",
       "      <th></th>\n",
       "      <th>produce</th>\n",
       "      <th>type</th>\n",
       "    </tr>\n",
       "  </thead>\n",
       "  <tbody>\n",
       "    <tr>\n",
       "      <th>0</th>\n",
       "      <td>apple</td>\n",
       "      <td>fruit</td>\n",
       "    </tr>\n",
       "    <tr>\n",
       "      <th>1</th>\n",
       "      <td>banana</td>\n",
       "      <td>fruit</td>\n",
       "    </tr>\n",
       "    <tr>\n",
       "      <th>2</th>\n",
       "      <td>corn</td>\n",
       "      <td>vegetable</td>\n",
       "    </tr>\n",
       "    <tr>\n",
       "      <th>3</th>\n",
       "      <td>orange</td>\n",
       "      <td>fruit</td>\n",
       "    </tr>\n",
       "  </tbody>\n",
       "</table>\n",
       "</div>"
      ],
      "text/plain": [
       "  produce       type\n",
       "0   apple      fruit\n",
       "1  banana      fruit\n",
       "2    corn  vegetable\n",
       "3  orange      fruit"
      ]
     },
     "execution_count": 49,
     "metadata": {},
     "output_type": "execute_result"
    }
   ],
   "source": [
    "# Import the pandas library using the alias pd\n",
    "import pandas as pd\n",
    "\n",
    "# Create a pandas DataFrame from the produce dictionary created earlier\n",
    "produce_df = pd.DataFrame(produce.items(), columns=['produce', 'type'])\n",
    "produce_df"
   ]
  },
  {
   "cell_type": "code",
   "execution_count": 50,
   "metadata": {},
   "outputs": [
    {
     "data": {
      "text/plain": [
       "<AxesSubplot:>"
      ]
     },
     "execution_count": 50,
     "metadata": {},
     "output_type": "execute_result"
    },
    {
     "data": {
      "image/png": "[encoded data removed]",
      "text/plain": [
       "<Figure size 432x288 with 1 Axes>"
      ]
     },
     "metadata": {
      "needs_background": "light"
     },
     "output_type": "display_data"
    }
   ],
   "source": [
    "# Import the pyplot interface from the matplotlib library using the alias plt\n",
    "import matplotlib.pyplot as plt\n",
    "\n",
    "# Create a horizontal bar chart of produce type counts\n",
    "produce_df['type'].value_counts().plot.barh()"
   ]
  },
  {
   "cell_type": "code",
   "execution_count": 51,
   "metadata": {},
   "outputs": [
    {
     "data": {
      "text/plain": [
       "array([0, 0, 1, 0])"
      ]
     },
     "execution_count": 51,
     "metadata": {},
     "output_type": "execute_result"
    }
   ],
   "source": [
    "# Import the preprocessing module from the scikit-learn library\n",
    "from sklearn import preprocessing\n",
    "\n",
    "# Create a label encoder object to transform non-numerical labels to numerical labels\n",
    "le = preprocessing.LabelEncoder()\n",
    "\n",
    "# Use the label encoder to transform the produce type column to numerical labels\n",
    "le.fit_transform(produce_df['type'])"
   ]
  },
  {
   "cell_type": "code",
   "execution_count": null,
   "metadata": {},
   "outputs": [],
   "source": []
  }
 ],
 "metadata": {
  "kernelspec": {
   "display_name": "Python 3",
   "language": "python",
   "name": "python3"
  },
  "language_info": {
   "codemirror_mode": {
    "name": "ipython",
    "version": 3
   },
   "file_extension": ".py",
   "mimetype": "text/x-python",
   "name": "python",
   "nbconvert_exporter": "python",
   "pygments_lexer": "ipython3",
   "version": "3.8.5"
  }
 },
 "nbformat": 4,
 "nbformat_minor": 5
}
