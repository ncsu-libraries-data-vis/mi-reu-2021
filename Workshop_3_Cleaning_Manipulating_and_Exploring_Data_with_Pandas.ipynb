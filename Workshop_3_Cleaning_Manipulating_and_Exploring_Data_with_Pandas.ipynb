{
 "cells": [
  {
   "cell_type": "markdown",
   "metadata": {},
   "source": [
    "# Workshop 3: Cleaning, Manipulating, and Exploring Data with Pandas\n",
    "[Placeholder for intro materials]\n"
   ]
  },
  {
   "cell_type": "code",
   "execution_count": 60,
   "metadata": {},
   "outputs": [],
   "source": [
    "# Import the Pandas library as pd (callable in the code as pd)\n",
    "import pandas as pd"
   ]
  },
  {
   "cell_type": "code",
   "execution_count": 61,
   "metadata": {},
   "outputs": [
    {
     "data": {
      "text/html": [
       "<div>\n",
       "<style scoped>\n",
       "    .dataframe tbody tr th:only-of-type {\n",
       "        vertical-align: middle;\n",
       "    }\n",
       "\n",
       "    .dataframe tbody tr th {\n",
       "        vertical-align: top;\n",
       "    }\n",
       "\n",
       "    .dataframe thead th {\n",
       "        text-align: right;\n",
       "    }\n",
       "</style>\n",
       "<table border=\"1\" class=\"dataframe\">\n",
       "  <thead>\n",
       "    <tr style=\"text-align: right;\">\n",
       "      <th></th>\n",
       "      <th>Material Composition</th>\n",
       "      <th>A site #1</th>\n",
       "      <th>A site #2</th>\n",
       "      <th>A site #3</th>\n",
       "      <th>B site #1</th>\n",
       "      <th>B site #2</th>\n",
       "      <th>B site #3</th>\n",
       "      <th>X site</th>\n",
       "      <th>Empty</th>\n",
       "      <th>Empty.1</th>\n",
       "      <th>Empty.2</th>\n",
       "      <th>Empty.3</th>\n",
       "      <th>Empty.4</th>\n",
       "      <th>energy_above_hull (meV/atom)</th>\n",
       "      <th>formation_energy (eV/atom)</th>\n",
       "    </tr>\n",
       "  </thead>\n",
       "  <tbody>\n",
       "    <tr>\n",
       "      <th>0</th>\n",
       "      <td>Ba1Sr7V8O24</td>\n",
       "      <td>Ba</td>\n",
       "      <td>Sr</td>\n",
       "      <td>NaN</td>\n",
       "      <td>V</td>\n",
       "      <td>NaN</td>\n",
       "      <td>NaN</td>\n",
       "      <td>O</td>\n",
       "      <td>NaN</td>\n",
       "      <td>NaN</td>\n",
       "      <td>NaN</td>\n",
       "      <td>NaN</td>\n",
       "      <td>NaN</td>\n",
       "      <td>29.747707</td>\n",
       "      <td>-2.113335</td>\n",
       "    </tr>\n",
       "    <tr>\n",
       "      <th>1</th>\n",
       "      <td>Ba2Bi2Pr4Co8O24</td>\n",
       "      <td>Ba</td>\n",
       "      <td>Bi</td>\n",
       "      <td>Pr</td>\n",
       "      <td>Co</td>\n",
       "      <td>NaN</td>\n",
       "      <td>NaN</td>\n",
       "      <td>O</td>\n",
       "      <td>NaN</td>\n",
       "      <td>NaN</td>\n",
       "      <td>NaN</td>\n",
       "      <td>NaN</td>\n",
       "      <td>NaN</td>\n",
       "      <td>106.702335</td>\n",
       "      <td>-1.311863</td>\n",
       "    </tr>\n",
       "    <tr>\n",
       "      <th>2</th>\n",
       "      <td>Ba2Ca6Fe8O24</td>\n",
       "      <td>Ba</td>\n",
       "      <td>Ca</td>\n",
       "      <td>NaN</td>\n",
       "      <td>Fe</td>\n",
       "      <td>NaN</td>\n",
       "      <td>NaN</td>\n",
       "      <td>O</td>\n",
       "      <td>NaN</td>\n",
       "      <td>NaN</td>\n",
       "      <td>NaN</td>\n",
       "      <td>NaN</td>\n",
       "      <td>NaN</td>\n",
       "      <td>171.608093</td>\n",
       "      <td>-1.435607</td>\n",
       "    </tr>\n",
       "    <tr>\n",
       "      <th>3</th>\n",
       "      <td>Ba2Cd2Pr4Ni8O24</td>\n",
       "      <td>Ba</td>\n",
       "      <td>Cd</td>\n",
       "      <td>Pr</td>\n",
       "      <td>Ni</td>\n",
       "      <td>NaN</td>\n",
       "      <td>NaN</td>\n",
       "      <td>O</td>\n",
       "      <td>NaN</td>\n",
       "      <td>NaN</td>\n",
       "      <td>NaN</td>\n",
       "      <td>NaN</td>\n",
       "      <td>NaN</td>\n",
       "      <td>284.898190</td>\n",
       "      <td>-0.868639</td>\n",
       "    </tr>\n",
       "    <tr>\n",
       "      <th>4</th>\n",
       "      <td>Ba2Dy6Fe8O24</td>\n",
       "      <td>Ba</td>\n",
       "      <td>Dy</td>\n",
       "      <td>NaN</td>\n",
       "      <td>Fe</td>\n",
       "      <td>NaN</td>\n",
       "      <td>NaN</td>\n",
       "      <td>O</td>\n",
       "      <td>NaN</td>\n",
       "      <td>NaN</td>\n",
       "      <td>NaN</td>\n",
       "      <td>NaN</td>\n",
       "      <td>NaN</td>\n",
       "      <td>270.007913</td>\n",
       "      <td>-1.746806</td>\n",
       "    </tr>\n",
       "  </tbody>\n",
       "</table>\n",
       "</div>"
      ],
      "text/plain": [
       "  Material Composition A site #1 A site #2 A site #3 B site #1 B site #2  \\\n",
       "0          Ba1Sr7V8O24        Ba        Sr       NaN         V       NaN   \n",
       "1      Ba2Bi2Pr4Co8O24        Ba        Bi        Pr        Co       NaN   \n",
       "2         Ba2Ca6Fe8O24        Ba        Ca       NaN        Fe       NaN   \n",
       "3      Ba2Cd2Pr4Ni8O24        Ba        Cd        Pr        Ni       NaN   \n",
       "4         Ba2Dy6Fe8O24        Ba        Dy       NaN        Fe       NaN   \n",
       "\n",
       "  B site #3 X site  Empty  Empty.1  Empty.2  Empty.3  Empty.4  \\\n",
       "0       NaN      O    NaN      NaN      NaN      NaN      NaN   \n",
       "1       NaN      O    NaN      NaN      NaN      NaN      NaN   \n",
       "2       NaN      O    NaN      NaN      NaN      NaN      NaN   \n",
       "3       NaN      O    NaN      NaN      NaN      NaN      NaN   \n",
       "4       NaN      O    NaN      NaN      NaN      NaN      NaN   \n",
       "\n",
       "   energy_above_hull (meV/atom)  formation_energy (eV/atom)  \n",
       "0                     29.747707                   -2.113335  \n",
       "1                    106.702335                   -1.311863  \n",
       "2                    171.608093                   -1.435607  \n",
       "3                    284.898190                   -0.868639  \n",
       "4                    270.007913                   -1.746806  "
      ]
     },
     "execution_count": 61,
     "metadata": {},
     "output_type": "execute_result"
    }
   ],
   "source": [
    "# Import the dataset as a DataFrame\n",
    "\n",
    "# The file location\n",
    "csv_file_url = 'https://raw.githubusercontent.com/NCSU-Libraries/data-viz-instruction/main/MI_REU_2021/data/perovskite_DFT_EaH_FormE.csv'\n",
    "\n",
    "# Read in the file and print out the DataFrame\n",
    "data_csv = pd.read_csv(csv_file_url)\n",
    "data_csv.head()"
   ]
  },
  {
   "cell_type": "markdown",
   "metadata": {},
   "source": [
    "## Removing data\n",
    "### Drop columns\n",
    "Removing unnecessary columns of data using the DataFrame `drop()` method can simplify the dataset."
   ]
  },
  {
   "cell_type": "code",
   "execution_count": 62,
   "metadata": {},
   "outputs": [
    {
     "data": {
      "text/html": [
       "<div>\n",
       "<style scoped>\n",
       "    .dataframe tbody tr th:only-of-type {\n",
       "        vertical-align: middle;\n",
       "    }\n",
       "\n",
       "    .dataframe tbody tr th {\n",
       "        vertical-align: top;\n",
       "    }\n",
       "\n",
       "    .dataframe thead th {\n",
       "        text-align: right;\n",
       "    }\n",
       "</style>\n",
       "<table border=\"1\" class=\"dataframe\">\n",
       "  <thead>\n",
       "    <tr style=\"text-align: right;\">\n",
       "      <th></th>\n",
       "      <th>Material Composition</th>\n",
       "      <th>A site #1</th>\n",
       "      <th>A site #2</th>\n",
       "      <th>A site #3</th>\n",
       "      <th>B site #1</th>\n",
       "      <th>B site #2</th>\n",
       "      <th>B site #3</th>\n",
       "      <th>X site</th>\n",
       "      <th>energy_above_hull (meV/atom)</th>\n",
       "      <th>formation_energy (eV/atom)</th>\n",
       "    </tr>\n",
       "  </thead>\n",
       "  <tbody>\n",
       "    <tr>\n",
       "      <th>0</th>\n",
       "      <td>Ba1Sr7V8O24</td>\n",
       "      <td>Ba</td>\n",
       "      <td>Sr</td>\n",
       "      <td>NaN</td>\n",
       "      <td>V</td>\n",
       "      <td>NaN</td>\n",
       "      <td>NaN</td>\n",
       "      <td>O</td>\n",
       "      <td>29.747707</td>\n",
       "      <td>-2.113335</td>\n",
       "    </tr>\n",
       "    <tr>\n",
       "      <th>1</th>\n",
       "      <td>Ba2Bi2Pr4Co8O24</td>\n",
       "      <td>Ba</td>\n",
       "      <td>Bi</td>\n",
       "      <td>Pr</td>\n",
       "      <td>Co</td>\n",
       "      <td>NaN</td>\n",
       "      <td>NaN</td>\n",
       "      <td>O</td>\n",
       "      <td>106.702335</td>\n",
       "      <td>-1.311863</td>\n",
       "    </tr>\n",
       "    <tr>\n",
       "      <th>2</th>\n",
       "      <td>Ba2Ca6Fe8O24</td>\n",
       "      <td>Ba</td>\n",
       "      <td>Ca</td>\n",
       "      <td>NaN</td>\n",
       "      <td>Fe</td>\n",
       "      <td>NaN</td>\n",
       "      <td>NaN</td>\n",
       "      <td>O</td>\n",
       "      <td>171.608093</td>\n",
       "      <td>-1.435607</td>\n",
       "    </tr>\n",
       "    <tr>\n",
       "      <th>3</th>\n",
       "      <td>Ba2Cd2Pr4Ni8O24</td>\n",
       "      <td>Ba</td>\n",
       "      <td>Cd</td>\n",
       "      <td>Pr</td>\n",
       "      <td>Ni</td>\n",
       "      <td>NaN</td>\n",
       "      <td>NaN</td>\n",
       "      <td>O</td>\n",
       "      <td>284.898190</td>\n",
       "      <td>-0.868639</td>\n",
       "    </tr>\n",
       "    <tr>\n",
       "      <th>4</th>\n",
       "      <td>Ba2Dy6Fe8O24</td>\n",
       "      <td>Ba</td>\n",
       "      <td>Dy</td>\n",
       "      <td>NaN</td>\n",
       "      <td>Fe</td>\n",
       "      <td>NaN</td>\n",
       "      <td>NaN</td>\n",
       "      <td>O</td>\n",
       "      <td>270.007913</td>\n",
       "      <td>-1.746806</td>\n",
       "    </tr>\n",
       "  </tbody>\n",
       "</table>\n",
       "</div>"
      ],
      "text/plain": [
       "  Material Composition A site #1 A site #2 A site #3 B site #1 B site #2  \\\n",
       "0          Ba1Sr7V8O24        Ba        Sr       NaN         V       NaN   \n",
       "1      Ba2Bi2Pr4Co8O24        Ba        Bi        Pr        Co       NaN   \n",
       "2         Ba2Ca6Fe8O24        Ba        Ca       NaN        Fe       NaN   \n",
       "3      Ba2Cd2Pr4Ni8O24        Ba        Cd        Pr        Ni       NaN   \n",
       "4         Ba2Dy6Fe8O24        Ba        Dy       NaN        Fe       NaN   \n",
       "\n",
       "  B site #3 X site  energy_above_hull (meV/atom)  formation_energy (eV/atom)  \n",
       "0       NaN      O                     29.747707                   -2.113335  \n",
       "1       NaN      O                    106.702335                   -1.311863  \n",
       "2       NaN      O                    171.608093                   -1.435607  \n",
       "3       NaN      O                    284.898190                   -0.868639  \n",
       "4       NaN      O                    270.007913                   -1.746806  "
      ]
     },
     "execution_count": 62,
     "metadata": {},
     "output_type": "execute_result"
    }
   ],
   "source": [
    "# Remove the empty columns using \"drop()\"\n",
    "data_clean = ts_csv.drop(columns=[\"Empty\", \"Empty.1\", \"Empty.2\", \"Empty.3\", \"Empty.4\"])\n",
    "\n",
    "# Print out the first five records of the DataFrame\n",
    "data_clean.head()"
   ]
  },
  {
   "cell_type": "markdown",
   "metadata": {},
   "source": [
    "## Calculating new data\n",
    "### Calculating with Expressions\n",
    "New columns can be created based on data in other columns. For example, the new column \"Number of elements\" is the number of columns that represent sites that are not null."
   ]
  },
  {
   "cell_type": "code",
   "execution_count": 65,
   "metadata": {},
   "outputs": [
    {
     "data": {
      "text/html": [
       "<div>\n",
       "<style scoped>\n",
       "    .dataframe tbody tr th:only-of-type {\n",
       "        vertical-align: middle;\n",
       "    }\n",
       "\n",
       "    .dataframe tbody tr th {\n",
       "        vertical-align: top;\n",
       "    }\n",
       "\n",
       "    .dataframe thead th {\n",
       "        text-align: right;\n",
       "    }\n",
       "</style>\n",
       "<table border=\"1\" class=\"dataframe\">\n",
       "  <thead>\n",
       "    <tr style=\"text-align: right;\">\n",
       "      <th></th>\n",
       "      <th>Material Composition</th>\n",
       "      <th>A site #1</th>\n",
       "      <th>A site #2</th>\n",
       "      <th>A site #3</th>\n",
       "      <th>B site #1</th>\n",
       "      <th>B site #2</th>\n",
       "      <th>B site #3</th>\n",
       "      <th>X site</th>\n",
       "      <th>energy_above_hull (meV/atom)</th>\n",
       "      <th>formation_energy (eV/atom)</th>\n",
       "      <th>Number of elements</th>\n",
       "    </tr>\n",
       "  </thead>\n",
       "  <tbody>\n",
       "    <tr>\n",
       "      <th>0</th>\n",
       "      <td>Ba1Sr7V8O24</td>\n",
       "      <td>Ba</td>\n",
       "      <td>Sr</td>\n",
       "      <td>NaN</td>\n",
       "      <td>V</td>\n",
       "      <td>NaN</td>\n",
       "      <td>NaN</td>\n",
       "      <td>O</td>\n",
       "      <td>29.747707</td>\n",
       "      <td>-2.113335</td>\n",
       "      <td>4</td>\n",
       "    </tr>\n",
       "    <tr>\n",
       "      <th>1</th>\n",
       "      <td>Ba2Bi2Pr4Co8O24</td>\n",
       "      <td>Ba</td>\n",
       "      <td>Bi</td>\n",
       "      <td>Pr</td>\n",
       "      <td>Co</td>\n",
       "      <td>NaN</td>\n",
       "      <td>NaN</td>\n",
       "      <td>O</td>\n",
       "      <td>106.702335</td>\n",
       "      <td>-1.311863</td>\n",
       "      <td>5</td>\n",
       "    </tr>\n",
       "    <tr>\n",
       "      <th>2</th>\n",
       "      <td>Ba2Ca6Fe8O24</td>\n",
       "      <td>Ba</td>\n",
       "      <td>Ca</td>\n",
       "      <td>NaN</td>\n",
       "      <td>Fe</td>\n",
       "      <td>NaN</td>\n",
       "      <td>NaN</td>\n",
       "      <td>O</td>\n",
       "      <td>171.608093</td>\n",
       "      <td>-1.435607</td>\n",
       "      <td>4</td>\n",
       "    </tr>\n",
       "    <tr>\n",
       "      <th>3</th>\n",
       "      <td>Ba2Cd2Pr4Ni8O24</td>\n",
       "      <td>Ba</td>\n",
       "      <td>Cd</td>\n",
       "      <td>Pr</td>\n",
       "      <td>Ni</td>\n",
       "      <td>NaN</td>\n",
       "      <td>NaN</td>\n",
       "      <td>O</td>\n",
       "      <td>284.898190</td>\n",
       "      <td>-0.868639</td>\n",
       "      <td>5</td>\n",
       "    </tr>\n",
       "    <tr>\n",
       "      <th>4</th>\n",
       "      <td>Ba2Dy6Fe8O24</td>\n",
       "      <td>Ba</td>\n",
       "      <td>Dy</td>\n",
       "      <td>NaN</td>\n",
       "      <td>Fe</td>\n",
       "      <td>NaN</td>\n",
       "      <td>NaN</td>\n",
       "      <td>O</td>\n",
       "      <td>270.007913</td>\n",
       "      <td>-1.746806</td>\n",
       "      <td>4</td>\n",
       "    </tr>\n",
       "  </tbody>\n",
       "</table>\n",
       "</div>"
      ],
      "text/plain": [
       "  Material Composition A site #1 A site #2 A site #3 B site #1 B site #2  \\\n",
       "0          Ba1Sr7V8O24        Ba        Sr       NaN         V       NaN   \n",
       "1      Ba2Bi2Pr4Co8O24        Ba        Bi        Pr        Co       NaN   \n",
       "2         Ba2Ca6Fe8O24        Ba        Ca       NaN        Fe       NaN   \n",
       "3      Ba2Cd2Pr4Ni8O24        Ba        Cd        Pr        Ni       NaN   \n",
       "4         Ba2Dy6Fe8O24        Ba        Dy       NaN        Fe       NaN   \n",
       "\n",
       "  B site #3 X site  energy_above_hull (meV/atom)  formation_energy (eV/atom)  \\\n",
       "0       NaN      O                     29.747707                   -2.113335   \n",
       "1       NaN      O                    106.702335                   -1.311863   \n",
       "2       NaN      O                    171.608093                   -1.435607   \n",
       "3       NaN      O                    284.898190                   -0.868639   \n",
       "4       NaN      O                    270.007913                   -1.746806   \n",
       "\n",
       "   Number of elements  \n",
       "0                   4  \n",
       "1                   5  \n",
       "2                   4  \n",
       "3                   5  \n",
       "4                   4  "
      ]
     },
     "execution_count": 65,
     "metadata": {},
     "output_type": "execute_result"
    }
   ],
   "source": [
    "# Create a new column for the number of elements in a compound\n",
    "data_clean['Number of elements'] = data_clean.loc[:, 'A site #1':'X site'].count(axis='columns')\n",
    "\n",
    "# Print out the new column\n",
    "data_clean.head()"
   ]
  },
  {
   "cell_type": "markdown",
   "metadata": {},
   "source": [
    "### Calculating with apply functions\n",
    "New columns can also be created with the `apply` method, which uses functions to handle more complex manipulations of existing data."
   ]
  },
  {
   "cell_type": "code",
   "execution_count": 21,
   "metadata": {},
   "outputs": [
    {
     "data": {
      "text/html": [
       "<div>\n",
       "<style scoped>\n",
       "    .dataframe tbody tr th:only-of-type {\n",
       "        vertical-align: middle;\n",
       "    }\n",
       "\n",
       "    .dataframe tbody tr th {\n",
       "        vertical-align: top;\n",
       "    }\n",
       "\n",
       "    .dataframe thead th {\n",
       "        text-align: right;\n",
       "    }\n",
       "</style>\n",
       "<table border=\"1\" class=\"dataframe\">\n",
       "  <thead>\n",
       "    <tr style=\"text-align: right;\">\n",
       "      <th></th>\n",
       "      <th>Material Composition</th>\n",
       "      <th>A site #1</th>\n",
       "      <th>A site #2</th>\n",
       "      <th>A site #3</th>\n",
       "      <th>B site #1</th>\n",
       "      <th>B site #2</th>\n",
       "      <th>B site #3</th>\n",
       "      <th>X site</th>\n",
       "      <th>energy_above_hull (meV/atom)</th>\n",
       "      <th>formation_energy (eV/atom)</th>\n",
       "      <th>Number of elements</th>\n",
       "      <th>stability</th>\n",
       "    </tr>\n",
       "  </thead>\n",
       "  <tbody>\n",
       "    <tr>\n",
       "      <th>0</th>\n",
       "      <td>Ba1Sr7V8O24</td>\n",
       "      <td>Ba</td>\n",
       "      <td>Sr</td>\n",
       "      <td>NaN</td>\n",
       "      <td>V</td>\n",
       "      <td>NaN</td>\n",
       "      <td>NaN</td>\n",
       "      <td>O</td>\n",
       "      <td>29.747707</td>\n",
       "      <td>-2.113335</td>\n",
       "      <td>4</td>\n",
       "      <td>Stable</td>\n",
       "    </tr>\n",
       "    <tr>\n",
       "      <th>1</th>\n",
       "      <td>Ba2Bi2Pr4Co8O24</td>\n",
       "      <td>Ba</td>\n",
       "      <td>Bi</td>\n",
       "      <td>Pr</td>\n",
       "      <td>Co</td>\n",
       "      <td>NaN</td>\n",
       "      <td>NaN</td>\n",
       "      <td>O</td>\n",
       "      <td>106.702335</td>\n",
       "      <td>-1.311863</td>\n",
       "      <td>5</td>\n",
       "      <td>Unstable</td>\n",
       "    </tr>\n",
       "    <tr>\n",
       "      <th>2</th>\n",
       "      <td>Ba2Ca6Fe8O24</td>\n",
       "      <td>Ba</td>\n",
       "      <td>Ca</td>\n",
       "      <td>NaN</td>\n",
       "      <td>Fe</td>\n",
       "      <td>NaN</td>\n",
       "      <td>NaN</td>\n",
       "      <td>O</td>\n",
       "      <td>171.608093</td>\n",
       "      <td>-1.435607</td>\n",
       "      <td>4</td>\n",
       "      <td>Unstable</td>\n",
       "    </tr>\n",
       "    <tr>\n",
       "      <th>3</th>\n",
       "      <td>Ba2Cd2Pr4Ni8O24</td>\n",
       "      <td>Ba</td>\n",
       "      <td>Cd</td>\n",
       "      <td>Pr</td>\n",
       "      <td>Ni</td>\n",
       "      <td>NaN</td>\n",
       "      <td>NaN</td>\n",
       "      <td>O</td>\n",
       "      <td>284.898190</td>\n",
       "      <td>-0.868639</td>\n",
       "      <td>5</td>\n",
       "      <td>Unstable</td>\n",
       "    </tr>\n",
       "    <tr>\n",
       "      <th>4</th>\n",
       "      <td>Ba2Dy6Fe8O24</td>\n",
       "      <td>Ba</td>\n",
       "      <td>Dy</td>\n",
       "      <td>NaN</td>\n",
       "      <td>Fe</td>\n",
       "      <td>NaN</td>\n",
       "      <td>NaN</td>\n",
       "      <td>O</td>\n",
       "      <td>270.007913</td>\n",
       "      <td>-1.746806</td>\n",
       "      <td>4</td>\n",
       "      <td>Unstable</td>\n",
       "    </tr>\n",
       "    <tr>\n",
       "      <th>...</th>\n",
       "      <td>...</td>\n",
       "      <td>...</td>\n",
       "      <td>...</td>\n",
       "      <td>...</td>\n",
       "      <td>...</td>\n",
       "      <td>...</td>\n",
       "      <td>...</td>\n",
       "      <td>...</td>\n",
       "      <td>...</td>\n",
       "      <td>...</td>\n",
       "      <td>...</td>\n",
       "      <td>...</td>\n",
       "    </tr>\n",
       "    <tr>\n",
       "      <th>1924</th>\n",
       "      <td>Y8V7Co1O24</td>\n",
       "      <td>Y</td>\n",
       "      <td>NaN</td>\n",
       "      <td>NaN</td>\n",
       "      <td>V</td>\n",
       "      <td>Co</td>\n",
       "      <td>NaN</td>\n",
       "      <td>O</td>\n",
       "      <td>1.588513</td>\n",
       "      <td>-2.438274</td>\n",
       "      <td>4</td>\n",
       "      <td>Stable</td>\n",
       "    </tr>\n",
       "    <tr>\n",
       "      <th>1925</th>\n",
       "      <td>Y8V7Cr1O24</td>\n",
       "      <td>Y</td>\n",
       "      <td>NaN</td>\n",
       "      <td>NaN</td>\n",
       "      <td>V</td>\n",
       "      <td>Cr</td>\n",
       "      <td>NaN</td>\n",
       "      <td>O</td>\n",
       "      <td>0.000000</td>\n",
       "      <td>-2.509888</td>\n",
       "      <td>4</td>\n",
       "      <td>Stable</td>\n",
       "    </tr>\n",
       "    <tr>\n",
       "      <th>1926</th>\n",
       "      <td>Y8V7Fe1O24</td>\n",
       "      <td>Y</td>\n",
       "      <td>NaN</td>\n",
       "      <td>NaN</td>\n",
       "      <td>V</td>\n",
       "      <td>Fe</td>\n",
       "      <td>NaN</td>\n",
       "      <td>O</td>\n",
       "      <td>0.000000</td>\n",
       "      <td>-2.479151</td>\n",
       "      <td>4</td>\n",
       "      <td>Stable</td>\n",
       "    </tr>\n",
       "    <tr>\n",
       "      <th>1927</th>\n",
       "      <td>Y8V7Ni1O24</td>\n",
       "      <td>Y</td>\n",
       "      <td>NaN</td>\n",
       "      <td>NaN</td>\n",
       "      <td>V</td>\n",
       "      <td>Ni</td>\n",
       "      <td>NaN</td>\n",
       "      <td>O</td>\n",
       "      <td>0.000000</td>\n",
       "      <td>-2.441538</td>\n",
       "      <td>4</td>\n",
       "      <td>Stable</td>\n",
       "    </tr>\n",
       "    <tr>\n",
       "      <th>1928</th>\n",
       "      <td>Y8V8O24</td>\n",
       "      <td>Y</td>\n",
       "      <td>NaN</td>\n",
       "      <td>NaN</td>\n",
       "      <td>V</td>\n",
       "      <td>NaN</td>\n",
       "      <td>NaN</td>\n",
       "      <td>O</td>\n",
       "      <td>0.000000</td>\n",
       "      <td>-2.520681</td>\n",
       "      <td>3</td>\n",
       "      <td>Stable</td>\n",
       "    </tr>\n",
       "  </tbody>\n",
       "</table>\n",
       "<p>1929 rows × 12 columns</p>\n",
       "</div>"
      ],
      "text/plain": [
       "     Material Composition A site #1 A site #2 A site #3 B site #1 B site #2  \\\n",
       "0             Ba1Sr7V8O24        Ba        Sr       NaN         V       NaN   \n",
       "1         Ba2Bi2Pr4Co8O24        Ba        Bi        Pr        Co       NaN   \n",
       "2            Ba2Ca6Fe8O24        Ba        Ca       NaN        Fe       NaN   \n",
       "3         Ba2Cd2Pr4Ni8O24        Ba        Cd        Pr        Ni       NaN   \n",
       "4            Ba2Dy6Fe8O24        Ba        Dy       NaN        Fe       NaN   \n",
       "...                   ...       ...       ...       ...       ...       ...   \n",
       "1924           Y8V7Co1O24         Y       NaN       NaN         V        Co   \n",
       "1925           Y8V7Cr1O24         Y       NaN       NaN         V        Cr   \n",
       "1926           Y8V7Fe1O24         Y       NaN       NaN         V        Fe   \n",
       "1927           Y8V7Ni1O24         Y       NaN       NaN         V        Ni   \n",
       "1928              Y8V8O24         Y       NaN       NaN         V       NaN   \n",
       "\n",
       "     B site #3 X site  energy_above_hull (meV/atom)  \\\n",
       "0          NaN      O                     29.747707   \n",
       "1          NaN      O                    106.702335   \n",
       "2          NaN      O                    171.608093   \n",
       "3          NaN      O                    284.898190   \n",
       "4          NaN      O                    270.007913   \n",
       "...        ...    ...                           ...   \n",
       "1924       NaN      O                      1.588513   \n",
       "1925       NaN      O                      0.000000   \n",
       "1926       NaN      O                      0.000000   \n",
       "1927       NaN      O                      0.000000   \n",
       "1928       NaN      O                      0.000000   \n",
       "\n",
       "      formation_energy (eV/atom)  Number of elements stability  \n",
       "0                      -2.113335                   4    Stable  \n",
       "1                      -1.311863                   5  Unstable  \n",
       "2                      -1.435607                   4  Unstable  \n",
       "3                      -0.868639                   5  Unstable  \n",
       "4                      -1.746806                   4  Unstable  \n",
       "...                          ...                 ...       ...  \n",
       "1924                   -2.438274                   4    Stable  \n",
       "1925                   -2.509888                   4    Stable  \n",
       "1926                   -2.479151                   4    Stable  \n",
       "1927                   -2.441538                   4    Stable  \n",
       "1928                   -2.520681                   3    Stable  \n",
       "\n",
       "[1929 rows x 12 columns]"
      ]
     },
     "execution_count": 21,
     "metadata": {},
     "output_type": "execute_result"
    }
   ],
   "source": [
    "# Create a function that returns \"stable\" or \"unstable\" based on the energy above hull\n",
    "def is_stable(energy_above_hull):\n",
    "    # less than 40meV/atom is stable\n",
    "    if energy_above_hull < 40:\n",
    "        return \"Stable\"\n",
    "    # greater than 40meV/atom is unstable\n",
    "    else:\n",
    "        return \"Unstable\"\n",
    "\n",
    "# Create a new column\n",
    "# apply the function to each row of another column to populate the new column with data\n",
    "data_clean['stability'] = data_clean[\"energy_above_hull (meV/atom)\"].apply(is_stable)\n",
    "\n",
    "# View the dataset\n",
    "data_clean"
   ]
  },
  {
   "cell_type": "markdown",
   "metadata": {},
   "source": [
    "## Replacing data\n",
    "Data can be replaced in a column based on conditions, similar to \"find and replace.\" For example, this replace method replaces element abbreviations with the full element name."
   ]
  },
  {
   "cell_type": "code",
   "execution_count": 9,
   "metadata": {},
   "outputs": [
    {
     "data": {
      "text/plain": [
       "0    Strontium\n",
       "1           Bi\n",
       "2      Calcium\n",
       "3           Cd\n",
       "4           Dy\n",
       "Name: A site #2, dtype: object"
      ]
     },
     "execution_count": 9,
     "metadata": {},
     "output_type": "execute_result"
    }
   ],
   "source": [
    "# Replace 'Sr' and 'Ca' abbreviations with \"Strontium\" and \"Calcium\"\n",
    "data_clean['A site #2'].replace({'Sr': 'Strontium', 'Ca': 'Calcium'}, inplace=True)\n",
    "\n",
    "# Print out the updated column of data\n",
    "data_clean['A site #2'].head()"
   ]
  },
  {
   "cell_type": "code",
   "execution_count": 11,
   "metadata": {},
   "outputs": [
    {
     "data": {
      "text/plain": [
       "0    Sr\n",
       "1    Bi\n",
       "2    Ca\n",
       "3    Cd\n",
       "4    Dy\n",
       "Name: A site #2, dtype: object"
      ]
     },
     "execution_count": 11,
     "metadata": {},
     "output_type": "execute_result"
    }
   ],
   "source": [
    "# Change the element names back to their abbreviations\n",
    "data_clean['A site #2'].replace({'Strontium': 'Sr', 'Calcium': 'Ca'}, inplace=True)\n",
    "\n",
    "data_clean['A site #2'].head()"
   ]
  },
  {
   "cell_type": "markdown",
   "metadata": {},
   "source": [
    "## Filtering data\n",
    "### Conditional filtering\n",
    "Data can be filtered using conditional statements to remove unecessary rows of data or observe a specific range of data."
   ]
  },
  {
   "cell_type": "code",
   "execution_count": 12,
   "metadata": {},
   "outputs": [
    {
     "data": {
      "text/html": [
       "<div>\n",
       "<style scoped>\n",
       "    .dataframe tbody tr th:only-of-type {\n",
       "        vertical-align: middle;\n",
       "    }\n",
       "\n",
       "    .dataframe tbody tr th {\n",
       "        vertical-align: top;\n",
       "    }\n",
       "\n",
       "    .dataframe thead th {\n",
       "        text-align: right;\n",
       "    }\n",
       "</style>\n",
       "<table border=\"1\" class=\"dataframe\">\n",
       "  <thead>\n",
       "    <tr style=\"text-align: right;\">\n",
       "      <th></th>\n",
       "      <th>Material Composition</th>\n",
       "      <th>A site #1</th>\n",
       "      <th>A site #2</th>\n",
       "      <th>A site #3</th>\n",
       "      <th>B site #1</th>\n",
       "      <th>B site #2</th>\n",
       "      <th>B site #3</th>\n",
       "      <th>X site</th>\n",
       "      <th>energy_above_hull (meV/atom)</th>\n",
       "      <th>formation_energy (eV/atom)</th>\n",
       "      <th>Number of elements</th>\n",
       "      <th>stability</th>\n",
       "    </tr>\n",
       "  </thead>\n",
       "  <tbody>\n",
       "    <tr>\n",
       "      <th>485</th>\n",
       "      <td>Ca2La6Co8O24</td>\n",
       "      <td>Ca</td>\n",
       "      <td>La</td>\n",
       "      <td>NaN</td>\n",
       "      <td>Co</td>\n",
       "      <td>NaN</td>\n",
       "      <td>NaN</td>\n",
       "      <td>O</td>\n",
       "      <td>50.025452</td>\n",
       "      <td>-1.693684</td>\n",
       "      <td>4</td>\n",
       "      <td>Unstable</td>\n",
       "    </tr>\n",
       "    <tr>\n",
       "      <th>486</th>\n",
       "      <td>Ca2La6Cr8O24</td>\n",
       "      <td>Ca</td>\n",
       "      <td>La</td>\n",
       "      <td>NaN</td>\n",
       "      <td>Cr</td>\n",
       "      <td>NaN</td>\n",
       "      <td>NaN</td>\n",
       "      <td>O</td>\n",
       "      <td>0.000000</td>\n",
       "      <td>-2.297925</td>\n",
       "      <td>4</td>\n",
       "      <td>Stable</td>\n",
       "    </tr>\n",
       "    <tr>\n",
       "      <th>487</th>\n",
       "      <td>Ca2La6Fe8O24</td>\n",
       "      <td>Ca</td>\n",
       "      <td>La</td>\n",
       "      <td>NaN</td>\n",
       "      <td>Fe</td>\n",
       "      <td>NaN</td>\n",
       "      <td>NaN</td>\n",
       "      <td>O</td>\n",
       "      <td>0.000000</td>\n",
       "      <td>-2.034384</td>\n",
       "      <td>4</td>\n",
       "      <td>Stable</td>\n",
       "    </tr>\n",
       "    <tr>\n",
       "      <th>488</th>\n",
       "      <td>Ca2La6Ga8O24</td>\n",
       "      <td>Ca</td>\n",
       "      <td>La</td>\n",
       "      <td>NaN</td>\n",
       "      <td>Ga</td>\n",
       "      <td>NaN</td>\n",
       "      <td>NaN</td>\n",
       "      <td>O</td>\n",
       "      <td>73.974147</td>\n",
       "      <td>-2.173541</td>\n",
       "      <td>4</td>\n",
       "      <td>Unstable</td>\n",
       "    </tr>\n",
       "    <tr>\n",
       "      <th>489</th>\n",
       "      <td>Ca2La6Mn8O24</td>\n",
       "      <td>Ca</td>\n",
       "      <td>La</td>\n",
       "      <td>NaN</td>\n",
       "      <td>Mn</td>\n",
       "      <td>NaN</td>\n",
       "      <td>NaN</td>\n",
       "      <td>O</td>\n",
       "      <td>32.789931</td>\n",
       "      <td>-2.086983</td>\n",
       "      <td>4</td>\n",
       "      <td>Stable</td>\n",
       "    </tr>\n",
       "    <tr>\n",
       "      <th>...</th>\n",
       "      <td>...</td>\n",
       "      <td>...</td>\n",
       "      <td>...</td>\n",
       "      <td>...</td>\n",
       "      <td>...</td>\n",
       "      <td>...</td>\n",
       "      <td>...</td>\n",
       "      <td>...</td>\n",
       "      <td>...</td>\n",
       "      <td>...</td>\n",
       "      <td>...</td>\n",
       "      <td>...</td>\n",
       "    </tr>\n",
       "    <tr>\n",
       "      <th>616</th>\n",
       "      <td>Ca8Ni6Co2O24</td>\n",
       "      <td>Ca</td>\n",
       "      <td>NaN</td>\n",
       "      <td>NaN</td>\n",
       "      <td>Ni</td>\n",
       "      <td>Co</td>\n",
       "      <td>NaN</td>\n",
       "      <td>O</td>\n",
       "      <td>361.579777</td>\n",
       "      <td>-0.866839</td>\n",
       "      <td>4</td>\n",
       "      <td>Unstable</td>\n",
       "    </tr>\n",
       "    <tr>\n",
       "      <th>617</th>\n",
       "      <td>Ca8Ni7Co1O24</td>\n",
       "      <td>Ca</td>\n",
       "      <td>NaN</td>\n",
       "      <td>NaN</td>\n",
       "      <td>Ni</td>\n",
       "      <td>Co</td>\n",
       "      <td>NaN</td>\n",
       "      <td>O</td>\n",
       "      <td>378.453371</td>\n",
       "      <td>-0.824937</td>\n",
       "      <td>4</td>\n",
       "      <td>Unstable</td>\n",
       "    </tr>\n",
       "    <tr>\n",
       "      <th>618</th>\n",
       "      <td>Ca8Ni8O24</td>\n",
       "      <td>Ca</td>\n",
       "      <td>NaN</td>\n",
       "      <td>NaN</td>\n",
       "      <td>Ni</td>\n",
       "      <td>NaN</td>\n",
       "      <td>NaN</td>\n",
       "      <td>O</td>\n",
       "      <td>397.239965</td>\n",
       "      <td>-0.781123</td>\n",
       "      <td>3</td>\n",
       "      <td>Unstable</td>\n",
       "    </tr>\n",
       "    <tr>\n",
       "      <th>619</th>\n",
       "      <td>Ca8Ti8O24</td>\n",
       "      <td>Ca</td>\n",
       "      <td>NaN</td>\n",
       "      <td>NaN</td>\n",
       "      <td>Ti</td>\n",
       "      <td>NaN</td>\n",
       "      <td>NaN</td>\n",
       "      <td>O</td>\n",
       "      <td>12.448077</td>\n",
       "      <td>-2.774067</td>\n",
       "      <td>3</td>\n",
       "      <td>Stable</td>\n",
       "    </tr>\n",
       "    <tr>\n",
       "      <th>620</th>\n",
       "      <td>Ca8V8O24</td>\n",
       "      <td>Ca</td>\n",
       "      <td>NaN</td>\n",
       "      <td>NaN</td>\n",
       "      <td>V</td>\n",
       "      <td>NaN</td>\n",
       "      <td>NaN</td>\n",
       "      <td>O</td>\n",
       "      <td>0.000000</td>\n",
       "      <td>-2.260366</td>\n",
       "      <td>3</td>\n",
       "      <td>Stable</td>\n",
       "    </tr>\n",
       "  </tbody>\n",
       "</table>\n",
       "<p>136 rows × 12 columns</p>\n",
       "</div>"
      ],
      "text/plain": [
       "    Material Composition A site #1 A site #2 A site #3 B site #1 B site #2  \\\n",
       "485         Ca2La6Co8O24        Ca        La       NaN        Co       NaN   \n",
       "486         Ca2La6Cr8O24        Ca        La       NaN        Cr       NaN   \n",
       "487         Ca2La6Fe8O24        Ca        La       NaN        Fe       NaN   \n",
       "488         Ca2La6Ga8O24        Ca        La       NaN        Ga       NaN   \n",
       "489         Ca2La6Mn8O24        Ca        La       NaN        Mn       NaN   \n",
       "..                   ...       ...       ...       ...       ...       ...   \n",
       "616         Ca8Ni6Co2O24        Ca       NaN       NaN        Ni        Co   \n",
       "617         Ca8Ni7Co1O24        Ca       NaN       NaN        Ni        Co   \n",
       "618            Ca8Ni8O24        Ca       NaN       NaN        Ni       NaN   \n",
       "619            Ca8Ti8O24        Ca       NaN       NaN        Ti       NaN   \n",
       "620             Ca8V8O24        Ca       NaN       NaN         V       NaN   \n",
       "\n",
       "    B site #3 X site  energy_above_hull (meV/atom)  \\\n",
       "485       NaN      O                     50.025452   \n",
       "486       NaN      O                      0.000000   \n",
       "487       NaN      O                      0.000000   \n",
       "488       NaN      O                     73.974147   \n",
       "489       NaN      O                     32.789931   \n",
       "..        ...    ...                           ...   \n",
       "616       NaN      O                    361.579777   \n",
       "617       NaN      O                    378.453371   \n",
       "618       NaN      O                    397.239965   \n",
       "619       NaN      O                     12.448077   \n",
       "620       NaN      O                      0.000000   \n",
       "\n",
       "     formation_energy (eV/atom)  Number of elements stability  \n",
       "485                   -1.693684                   4  Unstable  \n",
       "486                   -2.297925                   4    Stable  \n",
       "487                   -2.034384                   4    Stable  \n",
       "488                   -2.173541                   4  Unstable  \n",
       "489                   -2.086983                   4    Stable  \n",
       "..                          ...                 ...       ...  \n",
       "616                   -0.866839                   4  Unstable  \n",
       "617                   -0.824937                   4  Unstable  \n",
       "618                   -0.781123                   3  Unstable  \n",
       "619                   -2.774067                   3    Stable  \n",
       "620                   -2.260366                   3    Stable  \n",
       "\n",
       "[136 rows x 12 columns]"
      ]
     },
     "execution_count": 12,
     "metadata": {},
     "output_type": "execute_result"
    }
   ],
   "source": [
    "# Filter the data to only see perovskite oxides where Calcium was found at A site #1\n",
    "calcium = data_clean[ts_csv_clean['A site #1'] == 'Ca']\n",
    "\n",
    "# Print out the filtered data\n",
    "calcium"
   ]
  },
  {
   "cell_type": "code",
   "execution_count": 13,
   "metadata": {},
   "outputs": [
    {
     "data": {
      "text/html": [
       "<div>\n",
       "<style scoped>\n",
       "    .dataframe tbody tr th:only-of-type {\n",
       "        vertical-align: middle;\n",
       "    }\n",
       "\n",
       "    .dataframe tbody tr th {\n",
       "        vertical-align: top;\n",
       "    }\n",
       "\n",
       "    .dataframe thead th {\n",
       "        text-align: right;\n",
       "    }\n",
       "</style>\n",
       "<table border=\"1\" class=\"dataframe\">\n",
       "  <thead>\n",
       "    <tr style=\"text-align: right;\">\n",
       "      <th></th>\n",
       "      <th>Material Composition</th>\n",
       "      <th>A site #1</th>\n",
       "      <th>A site #2</th>\n",
       "      <th>A site #3</th>\n",
       "      <th>B site #1</th>\n",
       "      <th>B site #2</th>\n",
       "      <th>B site #3</th>\n",
       "      <th>X site</th>\n",
       "      <th>energy_above_hull (meV/atom)</th>\n",
       "      <th>formation_energy (eV/atom)</th>\n",
       "      <th>Number of elements</th>\n",
       "      <th>stability</th>\n",
       "    </tr>\n",
       "  </thead>\n",
       "  <tbody>\n",
       "    <tr>\n",
       "      <th>3</th>\n",
       "      <td>Ba2Cd2Pr4Ni8O24</td>\n",
       "      <td>Ba</td>\n",
       "      <td>Cd</td>\n",
       "      <td>Pr</td>\n",
       "      <td>Ni</td>\n",
       "      <td>NaN</td>\n",
       "      <td>NaN</td>\n",
       "      <td>O</td>\n",
       "      <td>284.898190</td>\n",
       "      <td>-0.868639</td>\n",
       "      <td>5</td>\n",
       "      <td>Unstable</td>\n",
       "    </tr>\n",
       "    <tr>\n",
       "      <th>41</th>\n",
       "      <td>Ba2Sr6Ni8O24</td>\n",
       "      <td>Ba</td>\n",
       "      <td>Sr</td>\n",
       "      <td>NaN</td>\n",
       "      <td>Ni</td>\n",
       "      <td>NaN</td>\n",
       "      <td>NaN</td>\n",
       "      <td>O</td>\n",
       "      <td>258.828051</td>\n",
       "      <td>-0.801693</td>\n",
       "      <td>4</td>\n",
       "      <td>Unstable</td>\n",
       "    </tr>\n",
       "    <tr>\n",
       "      <th>54</th>\n",
       "      <td>Ba3Cd1Pr4Ni8O24</td>\n",
       "      <td>Ba</td>\n",
       "      <td>Cd</td>\n",
       "      <td>Pr</td>\n",
       "      <td>Ni</td>\n",
       "      <td>NaN</td>\n",
       "      <td>NaN</td>\n",
       "      <td>O</td>\n",
       "      <td>257.075963</td>\n",
       "      <td>-0.967393</td>\n",
       "      <td>5</td>\n",
       "      <td>Unstable</td>\n",
       "    </tr>\n",
       "    <tr>\n",
       "      <th>59</th>\n",
       "      <td>Ba4Ba4Mn2Fe6O24</td>\n",
       "      <td>Ba</td>\n",
       "      <td>Ba</td>\n",
       "      <td>NaN</td>\n",
       "      <td>Mn</td>\n",
       "      <td>Fe</td>\n",
       "      <td>NaN</td>\n",
       "      <td>O</td>\n",
       "      <td>271.906598</td>\n",
       "      <td>-0.931270</td>\n",
       "      <td>5</td>\n",
       "      <td>Unstable</td>\n",
       "    </tr>\n",
       "    <tr>\n",
       "      <th>62</th>\n",
       "      <td>Ba4Ca4Co4Ni4O24</td>\n",
       "      <td>Ba</td>\n",
       "      <td>Ca</td>\n",
       "      <td>NaN</td>\n",
       "      <td>Co</td>\n",
       "      <td>Ni</td>\n",
       "      <td>NaN</td>\n",
       "      <td>O</td>\n",
       "      <td>296.095913</td>\n",
       "      <td>-0.941304</td>\n",
       "      <td>5</td>\n",
       "      <td>Unstable</td>\n",
       "    </tr>\n",
       "    <tr>\n",
       "      <th>...</th>\n",
       "      <td>...</td>\n",
       "      <td>...</td>\n",
       "      <td>...</td>\n",
       "      <td>...</td>\n",
       "      <td>...</td>\n",
       "      <td>...</td>\n",
       "      <td>...</td>\n",
       "      <td>...</td>\n",
       "      <td>...</td>\n",
       "      <td>...</td>\n",
       "      <td>...</td>\n",
       "      <td>...</td>\n",
       "    </tr>\n",
       "    <tr>\n",
       "      <th>1561</th>\n",
       "      <td>Sr8Fe1Ni7O24</td>\n",
       "      <td>Sr</td>\n",
       "      <td>NaN</td>\n",
       "      <td>NaN</td>\n",
       "      <td>Fe</td>\n",
       "      <td>Ni</td>\n",
       "      <td>NaN</td>\n",
       "      <td>O</td>\n",
       "      <td>243.428371</td>\n",
       "      <td>-0.908675</td>\n",
       "      <td>4</td>\n",
       "      <td>Unstable</td>\n",
       "    </tr>\n",
       "    <tr>\n",
       "      <th>1597</th>\n",
       "      <td>Sr8Ni6Co2O24</td>\n",
       "      <td>Sr</td>\n",
       "      <td>NaN</td>\n",
       "      <td>NaN</td>\n",
       "      <td>Ni</td>\n",
       "      <td>Co</td>\n",
       "      <td>NaN</td>\n",
       "      <td>O</td>\n",
       "      <td>241.664953</td>\n",
       "      <td>-0.906028</td>\n",
       "      <td>4</td>\n",
       "      <td>Unstable</td>\n",
       "    </tr>\n",
       "    <tr>\n",
       "      <th>1598</th>\n",
       "      <td>Sr8Ni7Co1O24</td>\n",
       "      <td>Sr</td>\n",
       "      <td>NaN</td>\n",
       "      <td>NaN</td>\n",
       "      <td>Ni</td>\n",
       "      <td>Co</td>\n",
       "      <td>NaN</td>\n",
       "      <td>O</td>\n",
       "      <td>252.767162</td>\n",
       "      <td>-0.864348</td>\n",
       "      <td>4</td>\n",
       "      <td>Unstable</td>\n",
       "    </tr>\n",
       "    <tr>\n",
       "      <th>1599</th>\n",
       "      <td>Sr8Ni8O24</td>\n",
       "      <td>Sr</td>\n",
       "      <td>NaN</td>\n",
       "      <td>NaN</td>\n",
       "      <td>Ni</td>\n",
       "      <td>NaN</td>\n",
       "      <td>NaN</td>\n",
       "      <td>O</td>\n",
       "      <td>263.543371</td>\n",
       "      <td>-0.822993</td>\n",
       "      <td>3</td>\n",
       "      <td>Unstable</td>\n",
       "    </tr>\n",
       "    <tr>\n",
       "      <th>1681</th>\n",
       "      <td>Y4Ba4Mn2Fe6O24</td>\n",
       "      <td>Y</td>\n",
       "      <td>Ba</td>\n",
       "      <td>NaN</td>\n",
       "      <td>Fe</td>\n",
       "      <td>Fe</td>\n",
       "      <td>NaN</td>\n",
       "      <td>O</td>\n",
       "      <td>950.227906</td>\n",
       "      <td>-0.933862</td>\n",
       "      <td>5</td>\n",
       "      <td>Unstable</td>\n",
       "    </tr>\n",
       "  </tbody>\n",
       "</table>\n",
       "<p>96 rows × 12 columns</p>\n",
       "</div>"
      ],
      "text/plain": [
       "     Material Composition A site #1 A site #2 A site #3 B site #1 B site #2  \\\n",
       "3         Ba2Cd2Pr4Ni8O24        Ba        Cd        Pr        Ni       NaN   \n",
       "41           Ba2Sr6Ni8O24        Ba        Sr       NaN        Ni       NaN   \n",
       "54        Ba3Cd1Pr4Ni8O24        Ba        Cd        Pr        Ni       NaN   \n",
       "59        Ba4Ba4Mn2Fe6O24        Ba        Ba       NaN        Mn        Fe   \n",
       "62        Ba4Ca4Co4Ni4O24        Ba        Ca       NaN        Co        Ni   \n",
       "...                   ...       ...       ...       ...       ...       ...   \n",
       "1561         Sr8Fe1Ni7O24        Sr       NaN       NaN        Fe        Ni   \n",
       "1597         Sr8Ni6Co2O24        Sr       NaN       NaN        Ni        Co   \n",
       "1598         Sr8Ni7Co1O24        Sr       NaN       NaN        Ni        Co   \n",
       "1599            Sr8Ni8O24        Sr       NaN       NaN        Ni       NaN   \n",
       "1681       Y4Ba4Mn2Fe6O24         Y        Ba       NaN        Fe        Fe   \n",
       "\n",
       "     B site #3 X site  energy_above_hull (meV/atom)  \\\n",
       "3          NaN      O                    284.898190   \n",
       "41         NaN      O                    258.828051   \n",
       "54         NaN      O                    257.075963   \n",
       "59         NaN      O                    271.906598   \n",
       "62         NaN      O                    296.095913   \n",
       "...        ...    ...                           ...   \n",
       "1561       NaN      O                    243.428371   \n",
       "1597       NaN      O                    241.664953   \n",
       "1598       NaN      O                    252.767162   \n",
       "1599       NaN      O                    263.543371   \n",
       "1681       NaN      O                    950.227906   \n",
       "\n",
       "      formation_energy (eV/atom)  Number of elements stability  \n",
       "3                      -0.868639                   5  Unstable  \n",
       "41                     -0.801693                   4  Unstable  \n",
       "54                     -0.967393                   5  Unstable  \n",
       "59                     -0.931270                   5  Unstable  \n",
       "62                     -0.941304                   5  Unstable  \n",
       "...                          ...                 ...       ...  \n",
       "1561                   -0.908675                   4  Unstable  \n",
       "1597                   -0.906028                   4  Unstable  \n",
       "1598                   -0.864348                   4  Unstable  \n",
       "1599                   -0.822993                   3  Unstable  \n",
       "1681                   -0.933862                   5  Unstable  \n",
       "\n",
       "[96 rows x 12 columns]"
      ]
     },
     "execution_count": 13,
     "metadata": {},
     "output_type": "execute_result"
    }
   ],
   "source": [
    "# Filter the data to only see only perovskite oxides with a formation energy greater than -1\n",
    "high_fe = data_clean[data_clean['formation_energy (eV/atom)'] > -1]\n",
    "\n",
    "# Print out the filtered data\n",
    "high_fe"
   ]
  },
  {
   "cell_type": "code",
   "execution_count": 16,
   "metadata": {},
   "outputs": [
    {
     "data": {
      "text/plain": [
       "(23, 12)"
      ]
     },
     "execution_count": 16,
     "metadata": {},
     "output_type": "execute_result"
    }
   ],
   "source": [
    "# Filter the data to only see perovskite oxides where Calcium was found at A site #1 \n",
    "# that also have a formation energy greater than -1\n",
    "calcium_fe = data_clean[(data_clean['A site #1'] == 'Ca') & (data_clean['formation_energy (eV/atom)'] > -1)]\n",
    "\n",
    "# Print out the filtered data\n",
    "calcium_fe\n",
    "\n",
    "# Show how many rows meet these requirements\n",
    "calcium_fe.shape"
   ]
  },
  {
   "cell_type": "markdown",
   "metadata": {},
   "source": [
    "## Aggregating data\n",
    "### Unique\n",
    "The `unique()` method can be used to see the total number of unique values are in a column of data. It returns a list of each value."
   ]
  },
  {
   "cell_type": "code",
   "execution_count": 74,
   "metadata": {},
   "outputs": [
    {
     "data": {
      "text/plain": [
       "array([nan, 'Hf', 'Co', 'Fe', 'Cu', 'Mo', 'Ni', 'W'], dtype=object)"
      ]
     },
     "execution_count": 74,
     "metadata": {},
     "output_type": "execute_result"
    }
   ],
   "source": [
    "# Create a list of the unique elements sounds at B site #3 with unique()\n",
    "B3_elements = data_clean['B site #3'].unique()\n",
    "\n",
    "# Print out the unique species\n",
    "B3_elements"
   ]
  },
  {
   "cell_type": "code",
   "execution_count": 75,
   "metadata": {},
   "outputs": [
    {
     "data": {
      "text/plain": [
       "7"
      ]
     },
     "execution_count": 75,
     "metadata": {},
     "output_type": "execute_result"
    }
   ],
   "source": [
    "# Get the length of the new array (How many unique elements are there?)\n",
    "len(B3_elements)"
   ]
  },
  {
   "cell_type": "markdown",
   "metadata": {},
   "source": [
    "### Value counts\n",
    "Value counts show how many instances there are of each unique entry in a column and returns a Series."
   ]
  },
  {
   "cell_type": "code",
   "execution_count": 48,
   "metadata": {},
   "outputs": [
    {
     "data": {
      "text/plain": [
       "Sr    162\n",
       "Zn    144\n",
       "Ca    143\n",
       "Y     132\n",
       "Ba    117\n",
       "Pr    104\n",
       "La     74\n",
       "Ho     61\n",
       "Sm     45\n",
       "Gd     44\n",
       "Dy     43\n",
       "Nd     42\n",
       "Sn     14\n",
       "Cd     14\n",
       "Bi     11\n",
       "Mg      7\n",
       "Ce      3\n",
       "Er      1\n",
       "Name: A site #2, dtype: int64"
      ]
     },
     "execution_count": 48,
     "metadata": {},
     "output_type": "execute_result"
    }
   ],
   "source": [
    "# Count the occurance of unique values on the column 'A site #2'\n",
    "A2_elements = data_clean['A site #2'].value_counts()\n",
    "\n",
    "A2_elements"
   ]
  },
  {
   "cell_type": "markdown",
   "metadata": {},
   "source": [
    "### Minimum, maximum, average\n",
    "Aggregates like  minimum, maximum, and mean of values can be calculated in a DataFrame or Series. Examples include:\n",
    "\n",
    "- `mean()` to find the average of a range\n",
    "- `min()` to find the smallest value\n",
    "- `max()` to find the largest value\n",
    "- `sum()` to sum the values of a range"
   ]
  },
  {
   "cell_type": "code",
   "execution_count": 20,
   "metadata": {},
   "outputs": [
    {
     "data": {
      "text/plain": [
       "Material Composition            Ba1Sr7V8O24\n",
       "A site #1                                Ba\n",
       "B site #1                                Al\n",
       "X site                                    O\n",
       "energy_above_hull (meV/atom)              0\n",
       "formation_energy (eV/atom)          -3.2085\n",
       "Number of elements                        3\n",
       "stability                            Stable\n",
       "dtype: object"
      ]
     },
     "execution_count": 20,
     "metadata": {},
     "output_type": "execute_result"
    }
   ],
   "source": [
    "# Calculate the minimum values for each column\n",
    "data_clean.min()"
   ]
  },
  {
   "cell_type": "code",
   "execution_count": 21,
   "metadata": {},
   "outputs": [
    {
     "data": {
      "text/plain": [
       "105.53263270409896"
      ]
     },
     "execution_count": 21,
     "metadata": {},
     "output_type": "execute_result"
    }
   ],
   "source": [
    "# Calculate the average mean for energy above hull\n",
    "data_clean['energy_above_hull (meV/atom)'].mean()"
   ]
  },
  {
   "cell_type": "markdown",
   "metadata": {},
   "source": [
    "The `agg()` method can call multiple aggregate functions at once."
   ]
  },
  {
   "cell_type": "code",
   "execution_count": 22,
   "metadata": {},
   "outputs": [
    {
     "data": {
      "text/plain": [
       "min       0.000000\n",
       "max     956.831956\n",
       "mean    105.532633\n",
       "Name: energy_above_hull (meV/atom), dtype: float64"
      ]
     },
     "execution_count": 22,
     "metadata": {},
     "output_type": "execute_result"
    }
   ],
   "source": [
    "# Calculate the minimum, maximum, and average for energy above hull\n",
    "data_clean['energy_above_hull (meV/atom)'].agg(['min', 'max', 'mean'])"
   ]
  },
  {
   "cell_type": "markdown",
   "metadata": {},
   "source": [
    "## Grouping data\n",
    "`groupby()` groups data in the DataSet by column values. This grouped data can be sorted and manipulated."
   ]
  },
  {
   "cell_type": "code",
   "execution_count": 31,
   "metadata": {},
   "outputs": [
    {
     "name": "stdout",
     "output_type": "stream",
     "text": [
      "<class 'pandas.core.groupby.generic.DataFrameGroupBy'>\n"
     ]
    },
    {
     "data": {
      "text/html": [
       "<div>\n",
       "<style scoped>\n",
       "    .dataframe tbody tr th:only-of-type {\n",
       "        vertical-align: middle;\n",
       "    }\n",
       "\n",
       "    .dataframe tbody tr th {\n",
       "        vertical-align: top;\n",
       "    }\n",
       "\n",
       "    .dataframe thead th {\n",
       "        text-align: right;\n",
       "    }\n",
       "</style>\n",
       "<table border=\"1\" class=\"dataframe\">\n",
       "  <thead>\n",
       "    <tr style=\"text-align: right;\">\n",
       "      <th></th>\n",
       "      <th>energy_above_hull (meV/atom)</th>\n",
       "      <th>formation_energy (eV/atom)</th>\n",
       "      <th>Number of elements</th>\n",
       "    </tr>\n",
       "    <tr>\n",
       "      <th>A site #1</th>\n",
       "      <th></th>\n",
       "      <th></th>\n",
       "      <th></th>\n",
       "    </tr>\n",
       "  </thead>\n",
       "  <tbody>\n",
       "    <tr>\n",
       "      <th>Ba</th>\n",
       "      <td>137.132922</td>\n",
       "      <td>-1.695770</td>\n",
       "      <td>4.397089</td>\n",
       "    </tr>\n",
       "    <tr>\n",
       "      <th>Bi</th>\n",
       "      <td>123.009060</td>\n",
       "      <td>-1.115116</td>\n",
       "      <td>5.250000</td>\n",
       "    </tr>\n",
       "    <tr>\n",
       "      <th>Ca</th>\n",
       "      <td>166.410235</td>\n",
       "      <td>-1.593343</td>\n",
       "      <td>4.272059</td>\n",
       "    </tr>\n",
       "    <tr>\n",
       "      <th>Cd</th>\n",
       "      <td>298.368831</td>\n",
       "      <td>-0.699773</td>\n",
       "      <td>4.000000</td>\n",
       "    </tr>\n",
       "    <tr>\n",
       "      <th>Dy</th>\n",
       "      <td>63.461571</td>\n",
       "      <td>-2.317707</td>\n",
       "      <td>3.947368</td>\n",
       "    </tr>\n",
       "    <tr>\n",
       "      <th>Gd</th>\n",
       "      <td>30.053374</td>\n",
       "      <td>-2.574140</td>\n",
       "      <td>3.947368</td>\n",
       "    </tr>\n",
       "    <tr>\n",
       "      <th>Ho</th>\n",
       "      <td>417.751932</td>\n",
       "      <td>-1.766937</td>\n",
       "      <td>3.000000</td>\n",
       "    </tr>\n",
       "    <tr>\n",
       "      <th>La</th>\n",
       "      <td>69.231032</td>\n",
       "      <td>-2.131105</td>\n",
       "      <td>4.257396</td>\n",
       "    </tr>\n",
       "    <tr>\n",
       "      <th>Mg</th>\n",
       "      <td>636.339325</td>\n",
       "      <td>-0.898799</td>\n",
       "      <td>3.000000</td>\n",
       "    </tr>\n",
       "    <tr>\n",
       "      <th>Nd</th>\n",
       "      <td>52.357692</td>\n",
       "      <td>-2.291192</td>\n",
       "      <td>3.947368</td>\n",
       "    </tr>\n",
       "    <tr>\n",
       "      <th>Pr</th>\n",
       "      <td>72.133346</td>\n",
       "      <td>-2.085849</td>\n",
       "      <td>4.233333</td>\n",
       "    </tr>\n",
       "    <tr>\n",
       "      <th>Sm</th>\n",
       "      <td>53.555176</td>\n",
       "      <td>-2.300666</td>\n",
       "      <td>3.947368</td>\n",
       "    </tr>\n",
       "    <tr>\n",
       "      <th>Sn</th>\n",
       "      <td>232.454011</td>\n",
       "      <td>-1.056476</td>\n",
       "      <td>4.000000</td>\n",
       "    </tr>\n",
       "    <tr>\n",
       "      <th>Sr</th>\n",
       "      <td>119.754726</td>\n",
       "      <td>-1.738465</td>\n",
       "      <td>4.264901</td>\n",
       "    </tr>\n",
       "    <tr>\n",
       "      <th>Y</th>\n",
       "      <td>99.781481</td>\n",
       "      <td>-2.084888</td>\n",
       "      <td>4.298450</td>\n",
       "    </tr>\n",
       "  </tbody>\n",
       "</table>\n",
       "</div>"
      ],
      "text/plain": [
       "           energy_above_hull (meV/atom)  formation_energy (eV/atom)  \\\n",
       "A site #1                                                             \n",
       "Ba                           137.132922                   -1.695770   \n",
       "Bi                           123.009060                   -1.115116   \n",
       "Ca                           166.410235                   -1.593343   \n",
       "Cd                           298.368831                   -0.699773   \n",
       "Dy                            63.461571                   -2.317707   \n",
       "Gd                            30.053374                   -2.574140   \n",
       "Ho                           417.751932                   -1.766937   \n",
       "La                            69.231032                   -2.131105   \n",
       "Mg                           636.339325                   -0.898799   \n",
       "Nd                            52.357692                   -2.291192   \n",
       "Pr                            72.133346                   -2.085849   \n",
       "Sm                            53.555176                   -2.300666   \n",
       "Sn                           232.454011                   -1.056476   \n",
       "Sr                           119.754726                   -1.738465   \n",
       "Y                             99.781481                   -2.084888   \n",
       "\n",
       "           Number of elements  \n",
       "A site #1                      \n",
       "Ba                   4.397089  \n",
       "Bi                   5.250000  \n",
       "Ca                   4.272059  \n",
       "Cd                   4.000000  \n",
       "Dy                   3.947368  \n",
       "Gd                   3.947368  \n",
       "Ho                   3.000000  \n",
       "La                   4.257396  \n",
       "Mg                   3.000000  \n",
       "Nd                   3.947368  \n",
       "Pr                   4.233333  \n",
       "Sm                   3.947368  \n",
       "Sn                   4.000000  \n",
       "Sr                   4.264901  \n",
       "Y                    4.298450  "
      ]
     },
     "execution_count": 31,
     "metadata": {},
     "output_type": "execute_result"
    }
   ],
   "source": [
    "# Group the dataset by \"A site #1\"\n",
    "by_Asite1 = data_clean.groupby('A site #1')\n",
    "\n",
    "# This creates a groupby object that contains information about the groups\n",
    "print(type(by_Asite1))\n",
    "\n",
    "# Find the mean of numerical columns grouped by element at \"A site #1\"\n",
    "by_Asite1.mean()"
   ]
  },
  {
   "cell_type": "markdown",
   "metadata": {},
   "source": [
    "`groupby()` can group data by multiple factors, too."
   ]
  },
  {
   "cell_type": "code",
   "execution_count": 49,
   "metadata": {},
   "outputs": [
    {
     "data": {
      "text/html": [
       "<div>\n",
       "<style scoped>\n",
       "    .dataframe tbody tr th:only-of-type {\n",
       "        vertical-align: middle;\n",
       "    }\n",
       "\n",
       "    .dataframe tbody tr th {\n",
       "        vertical-align: top;\n",
       "    }\n",
       "\n",
       "    .dataframe thead th {\n",
       "        text-align: right;\n",
       "    }\n",
       "</style>\n",
       "<table border=\"1\" class=\"dataframe\">\n",
       "  <thead>\n",
       "    <tr style=\"text-align: right;\">\n",
       "      <th></th>\n",
       "      <th></th>\n",
       "      <th>energy_above_hull (meV/atom)</th>\n",
       "      <th>formation_energy (eV/atom)</th>\n",
       "      <th>Number of elements</th>\n",
       "    </tr>\n",
       "    <tr>\n",
       "      <th>A site #1</th>\n",
       "      <th>A site #2</th>\n",
       "      <th></th>\n",
       "      <th></th>\n",
       "      <th></th>\n",
       "    </tr>\n",
       "  </thead>\n",
       "  <tbody>\n",
       "    <tr>\n",
       "      <th rowspan=\"5\" valign=\"top\">Ba</th>\n",
       "      <th>Ba</th>\n",
       "      <td>271.906598</td>\n",
       "      <td>-0.931270</td>\n",
       "      <td>5.000000</td>\n",
       "    </tr>\n",
       "    <tr>\n",
       "      <th>Bi</th>\n",
       "      <td>105.932321</td>\n",
       "      <td>-1.616462</td>\n",
       "      <td>4.727273</td>\n",
       "    </tr>\n",
       "    <tr>\n",
       "      <th>Ca</th>\n",
       "      <td>239.308297</td>\n",
       "      <td>-1.182568</td>\n",
       "      <td>4.846154</td>\n",
       "    </tr>\n",
       "    <tr>\n",
       "      <th>Cd</th>\n",
       "      <td>142.473483</td>\n",
       "      <td>-1.680978</td>\n",
       "      <td>5.000000</td>\n",
       "    </tr>\n",
       "    <tr>\n",
       "      <th>Ce</th>\n",
       "      <td>108.880760</td>\n",
       "      <td>-1.700416</td>\n",
       "      <td>4.000000</td>\n",
       "    </tr>\n",
       "    <tr>\n",
       "      <th>...</th>\n",
       "      <th>...</th>\n",
       "      <td>...</td>\n",
       "      <td>...</td>\n",
       "      <td>...</td>\n",
       "    </tr>\n",
       "    <tr>\n",
       "      <th rowspan=\"5\" valign=\"top\">Y</th>\n",
       "      <th>Ba</th>\n",
       "      <td>275.239004</td>\n",
       "      <td>-1.395605</td>\n",
       "      <td>5.000000</td>\n",
       "    </tr>\n",
       "    <tr>\n",
       "      <th>Ca</th>\n",
       "      <td>221.246470</td>\n",
       "      <td>-1.484484</td>\n",
       "      <td>5.000000</td>\n",
       "    </tr>\n",
       "    <tr>\n",
       "      <th>Ho</th>\n",
       "      <td>47.305564</td>\n",
       "      <td>-2.348126</td>\n",
       "      <td>4.000000</td>\n",
       "    </tr>\n",
       "    <tr>\n",
       "      <th>Sr</th>\n",
       "      <td>170.047628</td>\n",
       "      <td>-1.515276</td>\n",
       "      <td>5.000000</td>\n",
       "    </tr>\n",
       "    <tr>\n",
       "      <th>Zn</th>\n",
       "      <td>121.133217</td>\n",
       "      <td>-1.864187</td>\n",
       "      <td>4.714286</td>\n",
       "    </tr>\n",
       "  </tbody>\n",
       "</table>\n",
       "<p>69 rows × 3 columns</p>\n",
       "</div>"
      ],
      "text/plain": [
       "                     energy_above_hull (meV/atom)  formation_energy (eV/atom)  \\\n",
       "A site #1 A site #2                                                             \n",
       "Ba        Ba                           271.906598                   -0.931270   \n",
       "          Bi                           105.932321                   -1.616462   \n",
       "          Ca                           239.308297                   -1.182568   \n",
       "          Cd                           142.473483                   -1.680978   \n",
       "          Ce                           108.880760                   -1.700416   \n",
       "...                                           ...                         ...   \n",
       "Y         Ba                           275.239004                   -1.395605   \n",
       "          Ca                           221.246470                   -1.484484   \n",
       "          Ho                            47.305564                   -2.348126   \n",
       "          Sr                           170.047628                   -1.515276   \n",
       "          Zn                           121.133217                   -1.864187   \n",
       "\n",
       "                     Number of elements  \n",
       "A site #1 A site #2                      \n",
       "Ba        Ba                   5.000000  \n",
       "          Bi                   4.727273  \n",
       "          Ca                   4.846154  \n",
       "          Cd                   5.000000  \n",
       "          Ce                   4.000000  \n",
       "...                                 ...  \n",
       "Y         Ba                   5.000000  \n",
       "          Ca                   5.000000  \n",
       "          Ho                   4.000000  \n",
       "          Sr                   5.000000  \n",
       "          Zn                   4.714286  \n",
       "\n",
       "[69 rows x 3 columns]"
      ]
     },
     "execution_count": 49,
     "metadata": {},
     "output_type": "execute_result"
    }
   ],
   "source": [
    "# Group the data by A site #1 and then A site #2 and get the mean of the numerical columns using .mean()\n",
    "data_clean.groupby(['A site #1', 'A site #2']).mean()"
   ]
  },
  {
   "cell_type": "markdown",
   "metadata": {},
   "source": [
    "## Data Visualization\n",
    "Pandas can be used to create visualizations of the data, like bar charts and scatter plots. The [matplotlib visualization library](https://matplotlib.org/index.html) is an additional library that is built for creating charts.\n",
    "\n",
    "Import the [pyplot interface](https://matplotlib.org/api/_as_gen/matplotlib.pyplot.html#module-matplotlib.pyplot) as `plt` to access the plotting functionality of matplotlib.\n",
    "\n",
    "One way charts can be created is by using the matplotlib integration with pandas data structures, which calls the method [`plot()`](https://pandas.pydata.org/pandas-docs/stable/reference/api/pandas.DataFrame.plot.html#pandas.DataFrame.plot) on a DataFrame or Series."
   ]
  },
  {
   "cell_type": "code",
   "execution_count": 36,
   "metadata": {},
   "outputs": [],
   "source": [
    "# Import the matplotlib pyplot interface as plt (callable in the code as plt)\n",
    "import matplotlib.pyplot as plt"
   ]
  },
  {
   "cell_type": "markdown",
   "metadata": {},
   "source": [
    "### Create a Bar Chart\n",
    "Create a [bar graph](https://matplotlib.org/3.1.1/api/_as_gen/matplotlib.pyplot.bar.html) by preparing the data to visualize, storing it in a variable, and calling the `plot()` method with the keyword argument `kind='bar'`."
   ]
  },
  {
   "cell_type": "code",
   "execution_count": 37,
   "metadata": {},
   "outputs": [
    {
     "data": {
      "text/plain": [
       "Ba    481\n",
       "La    338\n",
       "Pr    330\n",
       "Sr    302\n",
       "Y     258\n",
       "Ca    136\n",
       "Sm     19\n",
       "Nd     19\n",
       "Gd     19\n",
       "Dy     19\n",
       "Name: A site #1, dtype: int64"
      ]
     },
     "execution_count": 37,
     "metadata": {},
     "output_type": "execute_result"
    }
   ],
   "source": [
    "# Get the number of strike records for each species type using \"A site #1\"\n",
    "A_site = data_clean['A site #1'].value_counts()\n",
    "\n",
    "# Print the first 10 values\n",
    "A_site.head(10)"
   ]
  },
  {
   "cell_type": "code",
   "execution_count": 38,
   "metadata": {},
   "outputs": [
    {
     "data": {
      "text/plain": [
       "<AxesSubplot:>"
      ]
     },
     "execution_count": 38,
     "metadata": {},
     "output_type": "execute_result"
    },
    {
     "data": {
      "image/png": "[encoded data removed]",
      "text/plain": [
       "<Figure size 432x288 with 1 Axes>"
      ]
     },
     "metadata": {
      "needs_background": "light"
     },
     "output_type": "display_data"
    }
   ],
   "source": [
    "# Create a bar chart (\"bar\") with the labels (element names) along the horizontal\n",
    "# axis and value counts (number of records) along the vertical axis\n",
    "A_site.plot(kind='bar')"
   ]
  },
  {
   "cell_type": "code",
   "execution_count": 42,
   "metadata": {},
   "outputs": [
    {
     "data": {
      "text/plain": [
       "<AxesSubplot:>"
      ]
     },
     "execution_count": 42,
     "metadata": {},
     "output_type": "execute_result"
    },
    {
     "data": {
      "image/png": "[encoded data removed]",
      "text/plain": [
       "<Figure size 720x576 with 1 Axes>"
      ]
     },
     "metadata": {},
     "output_type": "display_data"
    }
   ],
   "source": [
    "# Now create a horizontal bar chart (\"barh\") with the labels (element names) along \n",
    "# the vertical axis and value counts (number of records) along the horizontal axis\n",
    "A_site.plot(kind='barh')"
   ]
  },
  {
   "cell_type": "markdown",
   "metadata": {},
   "source": [
    "#### Setting global chart styles\n",
    "\n",
    "Basic graphic global paramenters can be set for the overall [style of the plots and the size of the plots](https://matplotlib.org/3.3.3/tutorials/introductory/customizing.html).\n",
    "\n",
    "View examples of various styles in the [Matplotlib Style Gallery](https://tonysyu.github.io/raw_content/matplotlib-style-gallery/gallery.html)."
   ]
  },
  {
   "cell_type": "code",
   "execution_count": 40,
   "metadata": {},
   "outputs": [],
   "source": [
    "# Set the default size of the plots to 10 inches wide and 8 inches tall\n",
    "plt.rcParams['figure.figsize'] = [10,8]"
   ]
  },
  {
   "cell_type": "code",
   "execution_count": 41,
   "metadata": {},
   "outputs": [],
   "source": [
    "# Set the default graphic style of the plots to 'ggplot'\n",
    "# See more styles in the \"Matplotlib Style Gallery\"\n",
    "plt.style.use('ggplot')"
   ]
  },
  {
   "cell_type": "markdown",
   "metadata": {},
   "source": [
    "### Create a Scatter Plot\n",
    "\n",
    "Create a [scatter plot](https://matplotlib.org/stable/api/_as_gen/matplotlib.pyplot.scatter.html) by calling the `plot()` method on the DataFrame with the keyword argument `kind='scatter`. Keyword arguments `x` and `y` reference the columns in the DataFrame for the x and y axes respectively. "
   ]
  },
  {
   "cell_type": "code",
   "execution_count": 55,
   "metadata": {},
   "outputs": [
    {
     "data": {
      "text/plain": [
       "<AxesSubplot:xlabel='energy_above_hull (meV/atom)', ylabel='formation_energy (eV/atom)'>"
      ]
     },
     "execution_count": 55,
     "metadata": {},
     "output_type": "execute_result"
    },
    {
     "data": {
      "image/png": "[encoded data removed]",
      "text/plain": [
       "<Figure size 720x576 with 1 Axes>"
      ]
     },
     "metadata": {},
     "output_type": "display_data"
    }
   ],
   "source": [
    "# Plot the energy above hull (x axis) by the formation energy (y axis)\n",
    "data_clean.plot(kind=\"scatter\", x=\"energy_above_hull (meV/atom)\", y=\"formation_energy (eV/atom)\")"
   ]
  },
  {
   "cell_type": "markdown",
   "metadata": {},
   "source": [
    "### Set the style of the plot\n",
    "\n",
    "The graphical encoding of the plot data can be manipulated using the keyword arguments like `c` for color and `marker` to change the style of the points. Find other style arguments for formatting markers and lines in the [matplotlib plot documentation](https://matplotlib.org/2.1.2/api/_as_gen/matplotlib.pyplot.plot.html)."
   ]
  },
  {
   "cell_type": "code",
   "execution_count": 59,
   "metadata": {},
   "outputs": [
    {
     "data": {
      "text/plain": [
       "<AxesSubplot:xlabel='energy_above_hull (meV/atom)', ylabel='formation_energy (eV/atom)'>"
      ]
     },
     "execution_count": 59,
     "metadata": {},
     "output_type": "execute_result"
    },
    {
     "data": {
      "image/png": "[encoded data removed]",
      "text/plain": [
       "<Figure size 720x576 with 1 Axes>"
      ]
     },
     "metadata": {},
     "output_type": "display_data"
    }
   ],
   "source": [
    "# Plot the energy above hull (x axis) by the formation energy (y axis)\n",
    "# Add keyword arguments to change the color to #4B0082 and the marker to \"x\"\n",
    "data_clean.plot(kind=\"scatter\", x=\"energy_above_hull (meV/atom)\", y=\"formation_energy (eV/atom)\", c='#4B0082', marker=\"x\")"
   ]
  },
  {
   "cell_type": "markdown",
   "metadata": {},
   "source": [
    "To make the chart more descriptive and easy to interperet, create a plot title and axis labels. Store the plot as a matplotlib `Axes` object in a variable by calling the `plot()` method so that the methods `set_title()`, `set_xlabel()`, and `set_ylabel()` can be used on the variable to set a descriptive title, x axis label, and y axis label, respectively."
   ]
  },
  {
   "cell_type": "code",
   "execution_count": 61,
   "metadata": {},
   "outputs": [
    {
     "data": {
      "text/plain": [
       "Text(0, 0.5, 'Formation Energy (eV/atom)')"
      ]
     },
     "execution_count": 61,
     "metadata": {},
     "output_type": "execute_result"
    },
    {
     "data": {
      "image/png": "[encoded data removed]",
      "text/plain": [
       "<Figure size 720x576 with 1 Axes>"
      ]
     },
     "metadata": {},
     "output_type": "display_data"
    }
   ],
   "source": [
    "# Create a variable that stores the plot\n",
    "scatter_plot = data_clean.plot(kind=\"scatter\", x=\"energy_above_hull (meV/atom)\", y=\"formation_energy (eV/atom)\", c='#1f77b4', marker=\"x\")\n",
    "\n",
    "#Change titles and axis labels with set_title(), set_xlabel(), and set_ylabel()\n",
    "scatter_plot.set_title(\"This is a Descriptive Title\")\n",
    "scatter_plot.set_xlabel(\"Energy Above Hull (meV/atom)\")\n",
    "scatter_plot.set_ylabel(\"Formation Energy (eV/atom)\")"
   ]
  },
  {
   "cell_type": "markdown",
   "metadata": {},
   "source": [
    "### Saving a plot\n",
    "\n",
    "`matplotlib` provides functionality for saving a figure as an image using the method `savefig()`. To save a figure from the plot, call `get_figure` on the matplotlib `Axes` object and call the method `savefig()`."
   ]
  },
  {
   "cell_type": "code",
   "execution_count": null,
   "metadata": {},
   "outputs": [],
   "source": [
    "# Save the scatter plot as a png\n",
    "scatter_plot.get_figure().savefig('scatter_plot.png')\n",
    "\n",
    "# Save a high resolution png of the plot by setting a high dpi\n",
    "scatter_plot.get_figure().savefig('scatter_plot_2.png', dpi=300)\n",
    "\n",
    "# Save a vectorized version of the plot (svg)\n",
    "scatter_plot.get_figure().savefig('scatter_plot_3.svg')"
   ]
  },
  {
   "cell_type": "markdown",
   "metadata": {},
   "source": [
    "### Other Data Visualization Libraries\n",
    "\n",
    "`matplotlib` is not the only option for creating data visualizations, there are other libraries that offer additional styling and interactive options.\n",
    "\n",
    "#### Line Chart (Seaborn)\n",
    "\n",
    "Seaborn is a common visualization library that builds on matplotlib and provides more robust options. Learn more and find documentation on the [seaborn website](https://seaborn.pydata.org/)"
   ]
  },
  {
   "cell_type": "code",
   "execution_count": 43,
   "metadata": {},
   "outputs": [],
   "source": [
    "# Import the Seaborn library as sns (callable in the code as sns)\n",
    "import seaborn as sns"
   ]
  },
  {
   "cell_type": "code",
   "execution_count": 44,
   "metadata": {},
   "outputs": [
    {
     "data": {
      "text/plain": [
       "<AxesSubplot:xlabel='energy_above_hull (meV/atom)', ylabel='Count'>"
      ]
     },
     "execution_count": 44,
     "metadata": {},
     "output_type": "execute_result"
    },
    {
     "data": {
      "image/png": "[encoded data removed]",
      "text/plain": [
       "<Figure size 720x576 with 1 Axes>"
      ]
     },
     "metadata": {},
     "output_type": "display_data"
    }
   ],
   "source": [
    "# Create a histogram by calling histplot() in Seaborn\n",
    "sns.histplot(data_clean['energy_above_hull (meV/atom)'])"
   ]
  },
  {
   "cell_type": "code",
   "execution_count": 59,
   "metadata": {},
   "outputs": [
    {
     "data": {
      "text/plain": [
       "<AxesSubplot:xlabel='Number of elements', ylabel='formation_energy (eV/atom)'>"
      ]
     },
     "execution_count": 59,
     "metadata": {},
     "output_type": "execute_result"
    },
    {
     "data": {
      "image/png": "[encoded data removed]",
      "text/plain": [
       "<Figure size 720x576 with 1 Axes>"
      ]
     },
     "metadata": {},
     "output_type": "display_data"
    }
   ],
   "source": [
    "sns.violinplot(y='formation_energy (eV/atom)', x=\"Number of elements\", hue=\"stability\", data=data_clean)"
   ]
  },
  {
   "cell_type": "code",
   "execution_count": null,
   "metadata": {},
   "outputs": [],
   "source": []
  }
 ],
 "metadata": {
  "kernelspec": {
   "display_name": "Python 3",
   "language": "python",
   "name": "python3"
  },
  "language_info": {
   "codemirror_mode": {
    "name": "ipython",
    "version": 3
   },
   "file_extension": ".py",
   "mimetype": "text/x-python",
   "name": "python",
   "nbconvert_exporter": "python",
   "pygments_lexer": "ipython3",
   "version": "3.8.5"
  }
 },
 "nbformat": 4,
 "nbformat_minor": 4
}
