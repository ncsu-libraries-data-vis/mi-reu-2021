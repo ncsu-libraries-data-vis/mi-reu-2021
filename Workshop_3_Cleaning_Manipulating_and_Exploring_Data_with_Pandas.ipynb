{
 "cells": [
  {
   "cell_type": "markdown",
   "metadata": {},
   "source": [
    "# Cleaning, manipulating, and exploring data with pandas"
   ]
  },
  {
   "cell_type": "code",
   "execution_count": null,
   "metadata": {},
   "outputs": [],
   "source": [
    "# Import the pandas library as pd (callable in the code as pd)\n"
   ]
  },
  {
   "cell_type": "code",
   "execution_count": null,
   "metadata": {},
   "outputs": [],
   "source": [
    "# The csv data file location\n",
    "csv_file_url = 'https://raw.githubusercontent.com/NCSU-Libraries/data-viz-instruction/main/MI_REU_2021/data/perovskite_DFT_EaH_FormE.csv'\n",
    "\n",
    "# Read in the data file and print out the DataFrame\n"
   ]
  },
  {
   "cell_type": "markdown",
   "metadata": {},
   "source": [
    "## Removing data\n",
    "### Drop columns\n",
    "Removing unnecessary columns of data using the DataFrame `drop()` method can simplify the dataset."
   ]
  },
  {
   "cell_type": "code",
   "execution_count": null,
   "metadata": {},
   "outputs": [],
   "source": [
    "# Remove the empty columns using \"drop()\"\n",
    "\n",
    "\n",
    "# Print out the first five records of the DataFrame\n"
   ]
  },
  {
   "cell_type": "markdown",
   "metadata": {},
   "source": [
    "## Calculating new data\n",
    "### Calculating with Expressions\n",
    "New columns can be created based on data in other columns. For example, the new column \"Number of elements\" is the number of columns that represent sites that are not null."
   ]
  },
  {
   "cell_type": "code",
   "execution_count": null,
   "metadata": {},
   "outputs": [],
   "source": [
    "# Create a new column for the number of elements in a compound\n",
    "\n",
    "\n",
    "# Print out the new column\n"
   ]
  },
  {
   "cell_type": "markdown",
   "metadata": {},
   "source": [
    "### Calculating with apply functions\n",
    "New columns can also be created with the `apply` method, which uses functions to handle more complex manipulations of existing data."
   ]
  },
  {
   "cell_type": "code",
   "execution_count": null,
   "metadata": {},
   "outputs": [],
   "source": [
    "# Create a function that returns \"stable\" or \"unstable\" based on the energy above hull\n",
    "def is_stable(energy_above_hull):\n",
    "    # less than 40meV/atom is stable\n",
    "    if energy_above_hull < 40:\n",
    "        return \"Stable\"\n",
    "    # greater than 40meV/atom is unstable\n",
    "    else:\n",
    "        return \"Unstable\"\n",
    "\n",
    "# Create a new column\n",
    "# apply the function \"is_stable\" to each row of another column to populate the new column with data\n",
    "\n",
    "\n",
    "# View the dataset\n"
   ]
  },
  {
   "cell_type": "markdown",
   "metadata": {},
   "source": [
    "## Replacing data\n",
    "Data can be replaced in a column based on conditions, similar to \"find and replace.\" For example, this replace method replaces element abbreviations with the full element name."
   ]
  },
  {
   "cell_type": "code",
   "execution_count": null,
   "metadata": {},
   "outputs": [],
   "source": [
    "# Replace 'Sr' and 'Ca' abbreviations with \"Strontium\" and \"Calcium\"\n",
    "\n",
    "\n",
    "# Print out the updated column of data\n"
   ]
  },
  {
   "cell_type": "code",
   "execution_count": null,
   "metadata": {},
   "outputs": [],
   "source": [
    "# Change the element names back to their abbreviations\n",
    "\n",
    "\n",
    "# Print out the updated column of data\n"
   ]
  },
  {
   "cell_type": "markdown",
   "metadata": {},
   "source": [
    "## Filtering data\n",
    "### Conditional filtering\n",
    "Data can be filtered using conditional statements to remove unecessary rows of data or observe a specific range of data."
   ]
  },
  {
   "cell_type": "code",
   "execution_count": null,
   "metadata": {},
   "outputs": [],
   "source": [
    "# Filter the data to only see perovskite oxides where Calcium was found at A site #1\n",
    "\n",
    "\n",
    "# Print out the filtered data\n"
   ]
  },
  {
   "cell_type": "code",
   "execution_count": null,
   "metadata": {},
   "outputs": [],
   "source": [
    "# Filter the data to only see only perovskite oxides with a formation energy greater than -1\n",
    "\n",
    "\n",
    "# Print out the filtered data\n"
   ]
  },
  {
   "cell_type": "code",
   "execution_count": null,
   "metadata": {},
   "outputs": [],
   "source": [
    "# Filter the data to only see perovskite oxides where Calcium was found at A site #1 \n",
    "# that also have a formation energy greater than -1\n",
    "\n",
    "\n",
    "# Print out the filtered data\n",
    "\n",
    "\n",
    "# Show how many rows meet these requirements\n"
   ]
  },
  {
   "cell_type": "markdown",
   "metadata": {},
   "source": [
    "## Aggregating data\n",
    "### Unique\n",
    "The `unique()` method can be used to see the total number of unique values are in a column of data. It returns a list of each value."
   ]
  },
  {
   "cell_type": "code",
   "execution_count": null,
   "metadata": {},
   "outputs": [],
   "source": [
    "# Create a list of the unique elements at B site #3 with unique()\n",
    "\n",
    "\n",
    "# Print out the unique species\n"
   ]
  },
  {
   "cell_type": "code",
   "execution_count": null,
   "metadata": {},
   "outputs": [],
   "source": [
    "# Get the length of the new array (How many unique elements are there?)\n"
   ]
  },
  {
   "cell_type": "markdown",
   "metadata": {},
   "source": [
    "### Value counts\n",
    "Value counts show how many instances there are of each unique entry in a column and returns a Series."
   ]
  },
  {
   "cell_type": "code",
   "execution_count": null,
   "metadata": {},
   "outputs": [],
   "source": [
    "# Count the occurance of unique values on the column 'A site #2'\n",
    "\n",
    "\n",
    "# Print out the value counts\n"
   ]
  },
  {
   "cell_type": "markdown",
   "metadata": {},
   "source": [
    "### Minimum, maximum, average\n",
    "Aggregates like  minimum, maximum, and mean of values can be calculated in a DataFrame or Series. Examples include:\n",
    "\n",
    "- `mean()` to find the average of a range\n",
    "- `min()` to find the smallest value\n",
    "- `max()` to find the largest value\n",
    "- `sum()` to sum the values of a range"
   ]
  },
  {
   "cell_type": "code",
   "execution_count": null,
   "metadata": {},
   "outputs": [],
   "source": [
    "# Calculate the minimum values for each column\n"
   ]
  },
  {
   "cell_type": "code",
   "execution_count": null,
   "metadata": {},
   "outputs": [],
   "source": [
    "# Calculate the average mean for energy above hull\n"
   ]
  },
  {
   "cell_type": "markdown",
   "metadata": {},
   "source": [
    "The `agg()` method can call multiple aggregate functions at once."
   ]
  },
  {
   "cell_type": "code",
   "execution_count": null,
   "metadata": {},
   "outputs": [],
   "source": [
    "# Calculate the minimum, maximum, and average for energy above hull\n"
   ]
  },
  {
   "cell_type": "markdown",
   "metadata": {},
   "source": [
    "## Grouping data\n",
    "`groupby()` groups data in the DataFrame by column values. This grouped data can be sorted and manipulated."
   ]
  },
  {
   "cell_type": "code",
   "execution_count": null,
   "metadata": {},
   "outputs": [],
   "source": [
    "# Group the dataset by \"A site #1\"\n",
    "\n",
    "\n",
    "# This creates a groupby object that contains information about the groups\n",
    "\n",
    "\n",
    "# Find the mean of numerical columns grouped by element at \"A site #1\"\n"
   ]
  },
  {
   "cell_type": "markdown",
   "metadata": {},
   "source": [
    "`groupby()` can group data by multiple factors, too."
   ]
  },
  {
   "cell_type": "code",
   "execution_count": null,
   "metadata": {},
   "outputs": [],
   "source": [
    "# Group the data by A site #1 and then A site #2 and get the mean of the numerical columns using .mean()\n",
    "     "
   ]
  },
  {
   "cell_type": "markdown",
   "metadata": {},
   "source": [
    "## Data Visualization\n",
    "\n",
    "Pandas can be used in conjunction with the **matplotlib visualization library** to create basic charts, such as bar charts, line charts, and scatter plots.\n",
    "\n",
    "Import the pyplot interface (`matplotlib.pyplot`) as `plt` to access the plotting functionality of matplotlib. Once imported, charts can be created by using the matplotlib integration with pandas data structures, which calls the method `plot()` on a DataFrame or Series."
   ]
  },
  {
   "cell_type": "code",
   "execution_count": null,
   "metadata": {},
   "outputs": [],
   "source": [
    "# Import the matplotlib pyplot interface as plt (callable in the code as plt)\n"
   ]
  },
  {
   "cell_type": "markdown",
   "metadata": {},
   "source": [
    "### Create a Bar Chart\n",
    "\n",
    "A bar chart is a simple way to compare values across categories."
   ]
  },
  {
   "cell_type": "code",
   "execution_count": null,
   "metadata": {},
   "outputs": [],
   "source": [
    "# Get the number of strike records for each species type using \"A site #1\"\n",
    "\n",
    "\n",
    "# Print the value counts\n"
   ]
  },
  {
   "cell_type": "code",
   "execution_count": null,
   "metadata": {},
   "outputs": [],
   "source": [
    "# Create a bar chart (kind=\"bar\") with the labels (element names) along the horizontal\n",
    "# axis and value counts (number of records) along the vertical axis\n"
   ]
  },
  {
   "cell_type": "code",
   "execution_count": null,
   "metadata": {},
   "outputs": [],
   "source": [
    "# Now create a horizontal bar chart (kind=\"barh\") with the labels (element names) along \n",
    "# the vertical axis and value counts (number of records) along the horizontal axis\n"
   ]
  },
  {
   "cell_type": "markdown",
   "metadata": {},
   "source": [
    "### Setting global chart styles\n",
    "\n",
    "Basic graphic global paramenters can be set for the overall style of all plots."
   ]
  },
  {
   "cell_type": "code",
   "execution_count": null,
   "metadata": {},
   "outputs": [],
   "source": [
    "# Set the default size of the plots to 10 inches wide and 8 inches tall\n"
   ]
  },
  {
   "cell_type": "code",
   "execution_count": null,
   "metadata": {},
   "outputs": [],
   "source": [
    "# Set the default graphic style of the plots to 'ggplot'\n"
   ]
  },
  {
   "cell_type": "code",
   "execution_count": null,
   "metadata": {},
   "outputs": [],
   "source": [
    "# Replot the horizontal bar chart with the updated style\n"
   ]
  },
  {
   "cell_type": "markdown",
   "metadata": {},
   "source": [
    "### Create a Scatter Plot\n",
    "\n",
    "Scatter plots are a standard graphing method for identifying a relationship between two variables."
   ]
  },
  {
   "cell_type": "code",
   "execution_count": null,
   "metadata": {},
   "outputs": [],
   "source": [
    "# Create new columns to simplify calling column names in plots\n",
    "\n",
    "\n",
    "# Create a scatter plot (kind=\"scatter\") to plot the energy above hull (x axis) vs the formation energy (y axis)\n"
   ]
  },
  {
   "cell_type": "markdown",
   "metadata": {},
   "source": [
    "### Set the style of the plot\n",
    "\n",
    "The graphical encoding of the plot data can be manipulated using the keyword arguments like `color` for color and `marker` to change the style of the points."
   ]
  },
  {
   "cell_type": "code",
   "execution_count": null,
   "metadata": {},
   "outputs": [],
   "source": [
    "# Plot the energy above hull (x axis) vs the formation energy (y axis)\n",
    "# Add keyword arguments to change the color to purple and the marker to \"x\"\n"
   ]
  },
  {
   "cell_type": "markdown",
   "metadata": {},
   "source": [
    "To make the chart more descriptive and easy to interperet, create a plot title and axis labels. Store the plot as a matplotlib `Axes` object in a variable by calling the `plot()` method so that the methods `set_title()`, `set_xlabel()`, and `set_ylabel()` can be used on the variable to set a descriptive title, x axis label, and y axis label, respectively."
   ]
  },
  {
   "cell_type": "code",
   "execution_count": null,
   "metadata": {},
   "outputs": [],
   "source": [
    "# Create a variable that stores the plot\n",
    "\n",
    "\n",
    "#Change titles and axis labels with set_title(), set_xlabel(), and set_ylabel()\n"
   ]
  },
  {
   "cell_type": "markdown",
   "metadata": {},
   "source": [
    "### Other Data Visualization Libraries\n",
    "\n",
    "`matplotlib` is not the only option for creating data visualizations, there are many other libraries that offer additional styling and interactive options."
   ]
  },
  {
   "cell_type": "markdown",
   "metadata": {},
   "source": [
    "#### Seaborn\n",
    "\n",
    "Seaborn is a common visualization library that builds on matplotlib and provides more robust options for plot types and stylings."
   ]
  },
  {
   "cell_type": "code",
   "execution_count": null,
   "metadata": {},
   "outputs": [],
   "source": [
    "# Import the seaborn library as sns (callable in the code as sns)\n"
   ]
  },
  {
   "cell_type": "code",
   "execution_count": null,
   "metadata": {},
   "outputs": [],
   "source": [
    "# Recreate the scatter plot of energy above hull vs formation energy with seaborn scatterplot()\n"
   ]
  },
  {
   "cell_type": "code",
   "execution_count": null,
   "metadata": {},
   "outputs": [],
   "source": [
    "# Create a histogram of energy above hull values by calling histplot() with seaborn\n"
   ]
  },
  {
   "cell_type": "code",
   "execution_count": null,
   "metadata": {},
   "outputs": [],
   "source": [
    "# Create violin plots of formation energy grouped by number of elements and stability\n"
   ]
  }
 ],
 "metadata": {
  "kernelspec": {
   "display_name": "Python 3",
   "language": "python",
   "name": "python3"
  },
  "language_info": {
   "codemirror_mode": {
    "name": "ipython",
    "version": 3
   },
   "file_extension": ".py",
   "mimetype": "text/x-python",
   "name": "python",
   "nbconvert_exporter": "python",
   "pygments_lexer": "ipython3",
   "version": "3.8.5"
  }
 },
 "nbformat": 4,
 "nbformat_minor": 4
}
